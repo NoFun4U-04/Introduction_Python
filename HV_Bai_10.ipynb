{
 "cells": [
  {
   "cell_type": "markdown",
   "metadata": {
    "id": "8NLMw4hvOsNp"
   },
   "source": [
    "**10.1.\tXử lý lỗi xóa phim**\n",
    "\n",
    "Sử dụng khối try… except… để xử lý lỗi người dùng chọn thông tin không có trong danh sách."
   ]
  },
  {
   "cell_type": "code",
   "execution_count": null,
   "metadata": {
    "id": "HnJwVZmlOsNs",
    "outputId": "a7e1b4c2-4e94-4e2c-9155-8413c1e2b7df"
   },
   "outputs": [
    {
     "name": "stdout",
     "output_type": "stream",
     "text": [
      "\n",
      "Có 6 phim trong danh sách\n",
      "STT     TÊN PHIM       \n",
      "1       Dòng chảy của nước\n",
      "2       Đảo độc đắc    \n",
      "3       Tiểu đội gấu bay\n",
      "4       Âm lượng hủy diệt\n",
      "5       Búp bê gọi hồn \n",
      "6       Tro tàn rực rỡ \n",
      "\n",
      "Dữ liệu nhập không phải là số\n",
      "Vui lòng nhập số STT trong khoảng từ 1 đến 6\n"
     ]
    }
   ],
   "source": [
    "def xuat_danh_sach_phim(danh_sach_phim):\n",
    "    \"\"\"\n",
    "    Hàm xuất danh sách phim ra màn hình.\n",
    "    Tham số:\n",
    "        danh_sach_phim: danh sách chứa tên các bộ phim.\n",
    "    \"\"\"\n",
    "    # Hiển thị số lượng phim trong danh sách\n",
    "    # Điền code còn thiếu vào đây\n",
    "\n",
    "    # Hiển thị tiêu đề bảng phim\n",
    "    # Điền code còn thiếu vào đây\n",
    "\n",
    "    # Duyệt qua danh sách phim và in từng phim với số thứ tự\n",
    "    # Điền code còn thiếu vào đây\n",
    "\n",
    "# Khởi tạo danh sách phim\n",
    "danh_sach_phim = [\n",
    "    'Dòng chảy của nước',\n",
    "    'Đảo độc đắc',\n",
    "    'Tiểu đội gấu bay',\n",
    "    'Âm lượng hủy diệt',\n",
    "    'Búp bê gọi hồn',\n",
    "    'Tro tàn rực rỡ'\n",
    "]\n",
    "\n",
    "# Xử lý lỗi khi xóa phim theo số thứ tự\n",
    "try:\n",
    "    # Gọi hàm xuất danh sách phim\n",
    "    xuat_danh_sach_phim(danh_sach_phim)\n",
    "\n",
    "    # Người dùng nhập số thứ tự phim cần xóa\n",
    "    stt = int(input('\\nChọn phim cần xóa\\nNhập STT: '))\n",
    "\n",
    "    # Kiểm tra nếu số thứ tự nhập vào nhỏ hơn 1, báo lỗi\n",
    "    # Điền code còn thiếu vào đây\n",
    "\n",
    "    # Xóa phim khỏi danh sách với chỉ số (stt - 1) do danh sách bắt đầu từ 0\n",
    "    # Điền code còn thiếu vào đây\n",
    "\n",
    "# Xử lý trường hợp người dùng nhập STT vượt ngoài giới hạn danh sách\n",
    "# Điền code còn thiếu vào đây\n",
    "\n",
    "# Xử lý trường hợp người dùng nhập dữ liệu không phải là số\n",
    "# Điền code còn thiếu vào đây\n",
    "\n",
    "# Xử lý các lỗi khác (ví dụ: số thứ tự nhỏ hơn 1)\n",
    "# Điền code còn thiếu vào đây\n"
   ]
  },
  {
   "cell_type": "markdown",
   "metadata": {
    "id": "wjEfPj6TOsNu"
   },
   "source": [
    "**10.2 Xử lý lỗi chương trình đổi nhiệt độ**\n",
    "\n",
    "Cho người dùng nhập vào nhiệt độ (độ C), thực hiện tính và xuất kết quả sang độ F. Sử dụng khối try… except… để xử lý lỗi thông tin nhập."
   ]
  },
  {
   "cell_type": "code",
   "execution_count": null,
   "metadata": {
    "id": "nqPID0N9OsNv",
    "outputId": "6c5f81e5-ece9-441d-9d99-914affc8e9a1"
   },
   "outputs": [
    {
     "name": "stdout",
     "output_type": "stream",
     "text": [
      "-------- KẾT QUẢ --------\n",
      "63.00 độ C = 145.40 độ F\n"
     ]
    }
   ],
   "source": [
    "# Test lỗi\n",
    "# do_c = eval(input('Nhập độ C: '))\n",
    "# do_f = 9 / 5 * do_c + 32\n",
    "# print('%.2f độ C = %.2f độ F' % (do_c, do_f))\n",
    "\n",
    "# Xử lý lỗi\n",
    "try:\n",
    "    # Điền code còn thiếu vào đây\n",
    "except NameError:\n",
    "    # Điền code còn thiếu vào đây\n",
    "else:\n",
    "    # Điền code còn thiếu vào đây"
   ]
  },
  {
   "cell_type": "markdown",
   "metadata": {
    "id": "RhA_NAMPOsNv"
   },
   "source": [
    "**10.3 Xử lý lỗi lưu trữ tập tin**\n",
    "\n",
    "Cho người dùng nhập vào link tập tin cần tải từ Internet, sử dụng khối try… except… để xử lý lỗi không tìm thấy đường dẫn lưu trữ.\n",
    "\n"
   ]
  },
  {
   "cell_type": "code",
   "execution_count": null,
   "metadata": {
    "id": "jHAqF6CROsNv"
   },
   "outputs": [],
   "source": [
    "import requests  # pip install requests\n",
    "import time\n",
    "\n",
    "# Test lỗi\n",
    "# def download_file(url):\n",
    "#     print('\\nDownload is starting...')\n",
    "#     start = time.time()\n",
    "#     r = requests.get(url)\n",
    "#     filename = url.split('/')[-1]\n",
    "#     path = 'downloads/' + filename\n",
    "#     with open(path, 'wb') as code:\n",
    "#         code.write(r.content)\n",
    "#     end = time.time()\n",
    "#     print('Finished! Total time: %ss' % (round(end - start, 2)))\n",
    "#     return path\n",
    "\n",
    "\n",
    "def download_file(url):\n",
    "    # Điền code còn thiếu vào đây\n",
    "\n",
    "\n",
    "link = input('Nhập link: ')  # https://cfm.ehu.es/ricardo/docs/python/Learning_Python.pdf\n",
    "download_file(link)"
   ]
  },
  {
   "cell_type": "markdown",
   "metadata": {
    "id": "ol1AsdVIOsNw"
   },
   "source": [
    "**10.4 Quản lý đơn hàng trong hệ thống bán hàng**\n",
    "\n",
    "Viết một chương trình Python cho phép người dùng nhập thông tin về đơn hàng bao gồm:\n",
    "- **Mã sản phẩm** (chuỗi không rỗng),\n",
    "- **Số lượng sản phẩm** (một số nguyên dương),\n",
    "- **Giá mỗi sản phẩm** (số dương).\n",
    "\n",
    "Chương trình sẽ tính tổng giá trị đơn hàng và lưu vào một tệp tin `don_hang.txt`. Trong quá trình thực hiện, cần xử lý các ngoại lệ có thể xảy ra như:\n",
    "\n",
    "1. **Dữ liệu nhập sai định dạng**: Nếu người dùng nhập sai kiểu dữ liệu, ví dụ nhập chữ vào trường số.\n",
    "2. **Giá trị không hợp lệ**: Số lượng và giá mỗi sản phẩm phải là số dương.\n",
    "3. **Ngoại lệ khi ghi tệp**: Nếu có lỗi xảy ra trong quá trình ghi tệp, chương trình phải thông báo cho người dùng nhưng không dừng đột ngột.\n"
   ]
  },
  {
   "cell_type": "code",
   "execution_count": null,
   "metadata": {
    "id": "9dRzebiZOsNw",
    "outputId": "84b564f1-0882-4d3d-9536-f529eda09cd9"
   },
   "outputs": [
    {
     "name": "stdout",
     "output_type": "stream",
     "text": [
      "Lỗi giá trị: Mã sản phẩm không được rỗng.\n"
     ]
    }
   ],
   "source": [
    "def nhap_du_lieu():\n",
    "    \"\"\"\n",
    "    Hàm nhập dữ liệu đơn hàng từ người dùng. Bao gồm mã sản phẩm, số lượng và giá mỗi sản phẩm.\n",
    "    Kiểm tra và báo lỗi nếu dữ liệu không hợp lệ.\n",
    "    Trả về:\n",
    "        - Bộ ba giá trị (ma_san_pham, so_luong, gia_moi_san_pham) nếu dữ liệu hợp lệ.\n",
    "        - None nếu có lỗi xảy ra trong quá trình nhập dữ liệu.\n",
    "    \"\"\"\n",
    "    try:\n",
    "        # Nhập mã sản phẩm từ người dùng\n",
    "        ma_san_pham = input(\"Nhập mã sản phẩm: \")\n",
    "        if not ma_san_pham:\n",
    "            # Điền code còn thiếu vào đây\n",
    "\n",
    "        # Nhập số lượng sản phẩm và kiểm tra xem có phải số nguyên dương không\n",
    "        so_luong = int(input(\"Nhập số lượng sản phẩm: \"))\n",
    "        if so_luong <= 0:\n",
    "            # Điền code còn thiếu vào đây\n",
    "\n",
    "        # Nhập giá mỗi sản phẩm và kiểm tra xem có phải số dương không\n",
    "        gia_moi_san_pham = float(input(\"Nhập giá mỗi sản phẩm: \"))\n",
    "        if gia_moi_san_pham <= 0:\n",
    "            # Điền code còn thiếu vào đây\n",
    "\n",
    "        return ma_san_pham, so_luong, gia_moi_san_pham\n",
    "\n",
    "    # Xử lý lỗi nếu dữ liệu nhập vào không hợp lệ\n",
    "    except ValueError as e:\n",
    "        # Điền code còn thiếu vào đây\n",
    "\n",
    "def ghi_don_hang(ma_san_pham, so_luong, gia_moi_san_pham):\n",
    "    \"\"\"\n",
    "    Hàm ghi thông tin đơn hàng vào tệp tin \"don_hang.txt\".\n",
    "    Tham số:\n",
    "        - ma_san_pham: mã của sản phẩm.\n",
    "        - so_luong: số lượng sản phẩm.\n",
    "        - gia_moi_san_pham: giá mỗi sản phẩm.\n",
    "    \"\"\"\n",
    "    try:\n",
    "        # Tính tổng giá trị của đơn hàng\n",
    "        tong_gia_tri = so_luong * gia_moi_san_pham\n",
    "        \n",
    "        # Ghi thông tin đơn hàng vào tệp với chế độ 'a' để thêm nội dung vào cuối tệp\n",
    "        # Điền code còn thiếu vào đây\n",
    "        \n",
    "        # Thông báo nếu ghi thành công\n",
    "        print(\"Đơn hàng đã được ghi thành công.\")\n",
    "    \n",
    "    # Xử lý lỗi nếu không ghi được vào tệp\n",
    "    except IOError:\n",
    "        # Điền code còn thiếu vào đây\n",
    "\n",
    "def main():\n",
    "    \"\"\"\n",
    "    Hàm chính điều khiển luồng của chương trình.\n",
    "    Liên tục hỏi người dùng nhập dữ liệu đơn hàng và lưu vào tệp cho đến khi người dùng chọn dừng.\n",
    "    \"\"\"\n",
    "    while True:\n",
    "        # Gọi hàm nhập dữ liệu đơn hàng\n",
    "        # Điền code còn thiếu vào đây\n",
    "        \n",
    "        # Nếu dữ liệu nhập hợp lệ, tiến hành ghi vào tệp\n",
    "        if du_lieu:\n",
    "            # Điền code còn thiếu vào đây\n",
    "\n",
    "        # Hỏi người dùng có muốn nhập thêm đơn hàng khác không\n",
    "        tiep_tuc = input(\"Bạn có muốn tiếp tục nhập đơn hàng khác không? (c/k): \")\n",
    "        if tiep_tuc.lower() != 'c':\n",
    "            break\n",
    "\n",
    "# Gọi hàm main nếu chạy chương trình trực tiếp\n",
    "if __name__ == \"__main__\":\n",
    "    main()\n"
   ]
  },
  {
   "cell_type": "code",
   "execution_count": null,
   "metadata": {
    "id": "1f4LeuMJOsNx"
   },
   "outputs": [],
   "source": []
  }
 ],
 "metadata": {
  "colab": {
   "provenance": []
  },
  "kernelspec": {
   "display_name": "Python 3",
   "language": "python",
   "name": "python3"
  },
  "language_info": {
   "codemirror_mode": {
    "name": "ipython",
    "version": 3
   },
   "file_extension": ".py",
   "mimetype": "text/x-python",
   "name": "python",
   "nbconvert_exporter": "python",
   "pygments_lexer": "ipython3",
   "version": "3.9.13"
  }
 },
 "nbformat": 4,
 "nbformat_minor": 0
}
