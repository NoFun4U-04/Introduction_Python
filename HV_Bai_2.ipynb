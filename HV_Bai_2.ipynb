{
 "cells": [
  {
   "cell_type": "markdown",
   "metadata": {},
   "source": [
    "**2.1 Thông tin đơn hàng**\n",
    "\n",
    "Nhập tên sản phẩm, số lượng và đơn giá. Sau đó in ra tổng tiền cần thanh toán.\n",
    "Nhập thông tin sản phẩm"
   ]
  },
  {
   "cell_type": "code",
   "execution_count": 2,
   "metadata": {},
   "outputs": [
    {
     "name": "stdout",
     "output_type": "stream",
     "text": [
      "\n",
      "      ----Hóa đơn----\n",
      "      Sản phẩm: HoaiThu\n",
      "      Số lượng: 12\n",
      "      Đơn giá: 12.0\n",
      "      Tổng tiền: 144.0\n",
      "      \n"
     ]
    }
   ],
   "source": [
    "ten_san_pham = input(\"Nhập tên sản phẩm: \")\n",
    "so_luong =int(input('Nhập số lượng sản phẩm: '))\n",
    "don_gia = float(input('Nhập đơn giá của sản phẩm: '))\n",
    "# Điền code còn thiếu vào đây\n",
    "\n",
    "# Tính tổng tiền\n",
    "tong_tien = so_luong * don_gia # Điền code còn thiếu vào đây\n",
    "\n",
    "# Xuất hóa đơn\n",
    "print(f\"\"\"\n",
    "      ----Hóa đơn----\n",
    "      Sản phẩm: {ten_san_pham}\n",
    "      Số lượng: {so_luong}\n",
    "      Đơn giá: {don_gia}\n",
    "      Tổng tiền: {tong_tien}\n",
    "      \"\"\")\n",
    "# Điền code còn thiếu vào đây\n"
   ]
  },
  {
   "cell_type": "markdown",
   "metadata": {},
   "source": [
    "**2.2 Đổi nhiệt độ từ độ C sang độ F**\n",
    "\n",
    "Viết chương trình đổi nhiệt độ từ độ C sang độ F theo công thức:\n",
    "$$ Độ F = 9/5 * Độ C + 32 $$\n"
   ]
  },
  {
   "cell_type": "code",
   "execution_count": null,
   "metadata": {},
   "outputs": [
    {
     "name": "stdout",
     "output_type": "stream",
     "text": [
      "Độ C : 36.0\n",
      "Độ F: 96.8\n"
     ]
    }
   ],
   "source": [
    "# 2.2 Nhập nhiệt độ ở đơn vị Celsius và chuyển đổi sang Fahrenheit.\n",
    "# Nhập nhiệt độ Celsius\n",
    "do_C = float(input(\"Nhập nhiệt độ (°C): \"))\n",
    "\n",
    "# Chuyển đổi sang Fahrenheit\n",
    "do_F = 9/5 * do_C + 32\n",
    "\n",
    "# Xuất kết quả với định dạng chuyên nghiệp\n",
    "print(f\"Độ C : {do_C}\")\n",
    "print(f\"Độ F: {do_F}\")"
   ]
  },
  {
   "cell_type": "markdown",
   "metadata": {},
   "source": [
    "**2.3 Xử lý chuỗi**\n",
    "\n",
    "Viết chương trình để tính chiều dài chuỗi, truy xuất ký tự theo vị trí, và trích xuất các chuỗi con từ chuỗi nhập vào."
   ]
  },
  {
   "cell_type": "code",
   "execution_count": null,
   "metadata": {},
   "outputs": [],
   "source": [
    "chuoi = input(\"Nhập chuỗi: \")\n",
    "\n",
    "# Xuất chiều dài chuỗi\n",
    "print(f\"Chiều dài chuỗi: {len(chuoi)}\")\n",
    "\n",
    "# Nhập và xuất ký tự tại vị trí index\n",
    "index = int(input(\"Nhập vị trí index: \"))\n",
    "print(f\"Ký tự tại vị trí {index}: {chuoi[index]}\")\n",
    "\n",
    "# Nhập khoảng index và lấy ra các ký tự\n",
    "# Điền code còn thiếu vào đây\n",
    "\n",
    "# Nhập index và số lượng n, lấy ra n ký tự liên tiếp\n",
    "n = int(input(\"Nhập số lượng ký tự cần lấy: \"))\n",
    "# Điền code còn thiếu vào đây\n"
   ]
  },
  {
   "cell_type": "markdown",
   "metadata": {},
   "source": [
    "**2.4 Tính tiền lãi gửi tiết kiệm**\n",
    "\n",
    "Viết chương trình tính tiền lãi và tính tổng số tiền nhận được sau khi hết thời hạn gửi tiền:\n",
    "- Tiền lãi = (Số tiền gửi * Số tháng) * (Lãi suất năm / 12)\n",
    "- Tổng số tiền = Số tiền gửi + Tiền lãi \n"
   ]
  },
  {
   "cell_type": "code",
   "execution_count": null,
   "metadata": {},
   "outputs": [],
   "source": [
    "#  2.4 Viết chương trình tính tiền lãi và tổng số tiền nhận được sau khi gửi tiết kiệm theo số tiền, số tháng gửi và lãi suất năm.\n",
    "# Nhập thông tin gửi tiết kiệm\n",
    "so_tien_gui = float(input(\"Nhập số tiền gửi (VND): \"))\n",
    "# Điền code còn thiếu vào đây\n",
    "\n",
    "# Tính tiền lãi và tổng số tiền\n",
    "# Điền code còn thiếu vào đây\n",
    "\n",
    "# Xuất kết quả\n",
    "print(f\"Tiền lãi: {tien_lai:.0f} VND\")\n",
    "print(f\"Tổng số tiền nhận được: {tong_tien:.0f} VND\")"
   ]
  },
  {
   "cell_type": "markdown",
   "metadata": {},
   "source": [
    "**2.5 Định dạng số điện thoại**\n",
    "\n",
    "Thực hành xử lý và định dạng chuỗi theo chuẩn thông tin liên lạc.\n",
    "Định dạng lại số điện thoại theo nhóm 3-3-4 (xxx-xxx-xxxx)."
   ]
  },
  {
   "cell_type": "code",
   "execution_count": null,
   "metadata": {},
   "outputs": [],
   "source": [
    "# Yêu cầu người dùng nhập số điện thoại liên tục\n",
    "so_dien_thoai = input(\"Nhập số điện thoại: \")\n",
    "\n",
    "# Định dạng lại theo nhóm 3-3-4\n",
    "# Điền code còn thiếu vào đây\n"
   ]
  },
  {
   "cell_type": "code",
   "execution_count": null,
   "metadata": {},
   "outputs": [],
   "source": []
  }
 ],
 "metadata": {
  "kernelspec": {
   "display_name": "base",
   "language": "python",
   "name": "python3"
  },
  "language_info": {
   "codemirror_mode": {
    "name": "ipython",
    "version": 3
   },
   "file_extension": ".py",
   "mimetype": "text/x-python",
   "name": "python",
   "nbconvert_exporter": "python",
   "pygments_lexer": "ipython3",
   "version": "3.13.5"
  }
 },
 "nbformat": 4,
 "nbformat_minor": 2
}
