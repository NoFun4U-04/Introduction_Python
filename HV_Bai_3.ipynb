{
 "cells": [
  {
   "cell_type": "markdown",
   "metadata": {
    "id": "sjE2odw9j0Ge"
   },
   "source": [
    "**3.1 Tính giá trị trung bình của 2 số**"
   ]
  },
  {
   "cell_type": "code",
   "execution_count": 7,
   "metadata": {
    "id": "O9ujoOy1j0Ge",
    "outputId": "11ef3423-457e-4b4d-eaf7-35cfd0f67796"
   },
   "outputs": [
    {
     "name": "stdout",
     "output_type": "stream",
     "text": [
      "Trung bình cộng của hai số là: 4.50\n",
      "Trung binh của hai số 4 và 5 là 4.50\n"
     ]
    }
   ],
   "source": [
    "# Nhập hai giá trị a và b\n",
    "a, b = eval(input('Nhập 2 giá trị a, b: '))\n",
    "\n",
    "# Tính tổng và trung bình cộng\n",
    "tong = a + b;\n",
    "trung_binh = tong / 2\n",
    "# Điền code còn thiếu vào đây\n",
    "\n",
    "\n",
    "# Xuất kết quả\n",
    "print(\"Trung bình cộng của hai số là: %.2f\" %trung_binh)\n",
    "print(\"Trung binh của hai số {:d} và {:d} là {:.2f}\".format(a,b,trung_binh))\n",
    "# Điền code còn thiếu vào đây\n"
   ]
  },
  {
   "cell_type": "markdown",
   "metadata": {
    "id": "le37Wl3kj0Gf"
   },
   "source": [
    "**3.2 Tính giá trị của biểu thức**"
   ]
  },
  {
   "cell_type": "code",
   "execution_count": null,
   "metadata": {
    "id": "VtylsjtMj0Gf"
   },
   "outputs": [],
   "source": [
    "# Input\n",
    "x = int(input('Nhập x: '))\n",
    "\n",
    "# Process\n",
    "# Điền code còn thiếu vào đây\n",
    "S = 1 + x + x^3/3 + x^5/5 \n",
    "\n",
    "\n",
    "# Output\n",
    "# Điền code còn thiếu vào đây\n",
    "print(\"Giá trị của biểu thức là {:d}\".format())\n"
   ]
  },
  {
   "cell_type": "markdown",
   "metadata": {
    "id": "yxHJJU1oj0Gg"
   },
   "source": [
    "**3.3 Bài toán đổi tiền**"
   ]
  },
  {
   "cell_type": "code",
   "execution_count": null,
   "metadata": {
    "id": "zgMS5uv1j0Gg"
   },
   "outputs": [],
   "source": [
    "menh_gia_500k = 500000\n",
    "menh_gia_200k = 200000\n",
    "menh_gia_100k = 100000\n",
    "menh_gia_50k = 50000\n",
    "\n",
    "\n",
    "# Điền code còn thiếu vào đây\n"
   ]
  },
  {
   "cell_type": "markdown",
   "metadata": {
    "id": "96V_d5HGj0Gg"
   },
   "source": [
    "**3.4 Tính điểm trung bình học kì**"
   ]
  },
  {
   "cell_type": "code",
   "execution_count": null,
   "metadata": {
    "id": "eXz1IIcij0Gh",
    "outputId": "2df46c47-b5d9-4c2f-a692-134f4806b494"
   },
   "outputs": [],
   "source": [
    "\n",
    "# Điền code còn thiếu vào đây\n"
   ]
  },
  {
   "cell_type": "markdown",
   "metadata": {
    "id": "MSOBLFqVj0Gh"
   },
   "source": [
    "**3.5 Kiểm tra khách hàng VIP và xác định mức giảm giá** (Bài tập bổ sung)\n",
    "\n",
    "Yêu cầu khách hàng nhập tên, Mã số thẻ và loại thẻ. Xác định mức giảm giá mà khách hàng được hưởng\n",
    "\n",
    "Yêu cầu:\n",
    "\n",
    "1. **Nhập thông tin**:\n",
    "    - Một biến chứa **tên khách hàng** (ví dụ: `\"Nguyen Van A\"`).\n",
    "    - Một biến chứa **mã số thẻ** của khách hàng (ví dụ: `\"GOLD123\"`, `\"SILVER456\"`, `\"BRONZE789\"`).\n",
    "\n",
    "2. **Xác định mức giảm giá**:\n",
    "    - Sử dụng toán tử **thành phần** (`in`) để kiểm tra mã số thẻ:\n",
    "        - Nếu mã thẻ chứa `\"GOLD\"`, khách hàng sẽ được giảm **10%**.\n",
    "        - Nếu mã thẻ chứa `\"SILVER\"`, khách hàng sẽ được giảm **5%**.\n",
    "        - Nếu mã thẻ chứa `\"BRONZE\"`, khách hàng sẽ được giảm **3%**."
   ]
  },
  {
   "cell_type": "code",
   "execution_count": null,
   "metadata": {
    "colab": {
     "base_uri": "https://localhost:8080/"
    },
    "executionInfo": {
     "elapsed": 12837,
     "status": "ok",
     "timestamp": 1730346889687,
     "user": {
      "displayName": "Van Nguyen Tran Thao",
      "userId": "15365487970074691869"
     },
     "user_tz": -420
    },
    "id": "vJBaR0TJj0Gh",
    "outputId": "1aa485c6-ba90-478e-bec5-0e6203b99101"
   },
   "outputs": [],
   "source": [
    "# Nhập thông tin khách hàng\n",
    "\n",
    "\n",
    "# Điền code còn thiếu vào đây\n"
   ]
  },
  {
   "cell_type": "code",
   "execution_count": null,
   "metadata": {
    "id": "98IoHsMAj0Gh"
   },
   "outputs": [],
   "source": []
  }
 ],
 "metadata": {
  "colab": {
   "provenance": []
  },
  "kernelspec": {
   "display_name": "base",
   "language": "python",
   "name": "python3"
  },
  "language_info": {
   "codemirror_mode": {
    "name": "ipython",
    "version": 3
   },
   "file_extension": ".py",
   "mimetype": "text/x-python",
   "name": "python",
   "nbconvert_exporter": "python",
   "pygments_lexer": "ipython3",
   "version": "3.13.5"
  }
 },
 "nbformat": 4,
 "nbformat_minor": 0
}
