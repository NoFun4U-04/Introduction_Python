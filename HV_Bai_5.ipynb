{
 "cells": [
  {
   "cell_type": "markdown",
   "metadata": {
    "id": "gNf2gR0rmLzf"
   },
   "source": [
    "**5.1 Kiểm tra số nguyên tố**"
   ]
  },
  {
   "cell_type": "code",
   "execution_count": 2,
   "metadata": {
    "id": "crnPXI89mLzi"
   },
   "outputs": [
    {
     "name": "stdout",
     "output_type": "stream",
     "text": [
      "6 không là số nguyên tố\n"
     ]
    }
   ],
   "source": [
    "x = int(input('Nhập số cần kiểm tra: '))\n",
    "if x < 2:\n",
    "    # Điền code còn thiếu vào đây\n",
    "    print(f\"{x} không phải là số nguyên tố \")\n",
    "else:\n",
    "    for i in range(2, int(x**0.5)+1):\n",
    "       # Điền code còn thiếu vào đây\n",
    "       if(x%i==0):\n",
    "           print(f\"{x} không là số nguyên tố\")\n",
    "           break\n",
    "    else:\n",
    "       # Điền code còn thiếu vào đây\n",
    "       print(f\"{x} là số nguyên tố\")\n"
   ]
  },
  {
   "cell_type": "markdown",
   "metadata": {
    "id": "v0Jm4UZCmLzk"
   },
   "source": [
    "**5.2 Tính giá trị biểu thức**"
   ]
  },
  {
   "cell_type": "code",
   "execution_count": null,
   "metadata": {
    "id": "Gtr0Hn0TmLzm"
   },
   "outputs": [
    {
     "name": "stdout",
     "output_type": "stream",
     "text": [
      "Tổng là: 456976 \n"
     ]
    }
   ],
   "source": [
    "n = int(input('Nhập n: '))\n",
    "x = eval(input('Nhập x: '))\n",
    "\n",
    "S = 1\n",
    "for i in range(0, n):\n",
    "    # Điền code còn thiếu vào đây\n",
    "    S = (x**2 + 1)*S\n",
    "else:\n",
    "    # Điền code còn thiếu vào đây\n",
    "    print(f\"Tổng là: {S} \")"
   ]
  },
  {
   "cell_type": "markdown",
   "metadata": {
    "id": "9_Lh10hRmLzo"
   },
   "source": [
    "**5.3 Xây dựng chương trình cho nhập vào các thể loại nhạc yêu thích cho đến khi nào không muốn nhập nữa (dừng lại ấn phím “0”), xuất ra các thể loại nhạc đã nhập (ngăn cách nhau bằng chuỗi “, “)**"
   ]
  },
  {
   "cell_type": "code",
   "execution_count": null,
   "metadata": {
    "id": "o5Q6luComLzp"
   },
   "outputs": [
    {
     "name": "stdout",
     "output_type": "stream",
     "text": [
      "Jazz,Hiphop\n"
     ]
    }
   ],
   "source": [
    "dieu_kien = True\n",
    "chuoi = ''\n",
    "while dieu_kien:\n",
    "    # Điền code còn thiếu vào đây\n",
    "    chuoi_nhap = input(\"Nhập thể loại nhạc yêu thích: \")\n",
    "    if(chuoi_nhap != '0'):\n",
    "        if(chuoi == ''):\n",
    "            chuoi = chuoi_nhap\n",
    "        else: \n",
    "            chuoi = chuoi + ', ' + chuoi_nhap\n",
    "    else: \n",
    "        dieu_kien = False\n",
    "else:\n",
    "    # Điền code còn thiếu vào đây\n",
    "    print(chuoi)"
   ]
  },
  {
   "cell_type": "markdown",
   "metadata": {
    "id": "WyFQsAPemLzq"
   },
   "source": [
    "**5.4. Viết chương trình yêu cầu người dùng nhập một đoạn văn. Sử dụng vòng lặp để đếm số lượng từ trong đoạn văn đó và in ra kết quả.**\n"
   ]
  },
  {
   "cell_type": "code",
   "execution_count": 6,
   "metadata": {
    "id": "vrNqyqbNmLzr"
   },
   "outputs": [
    {
     "name": "stdout",
     "output_type": "stream",
     "text": [
      "So luong tu trong cau la : 3\n"
     ]
    }
   ],
   "source": [
    "# Nhập văn bản từ người dùng\n",
    "text = input(\"Nhập một đoạn văn: \")\n",
    "\n",
    "# Tách văn bản thành các từ dựa trên khoảng trắng\n",
    "# Điền code còn thiếu vào đây\n",
    "words = text.split()\n",
    "# Đếm số từ\n",
    "# Điền code còn thiếu vào\n",
    "sum = 0\n",
    "for i in words:\n",
    "    sum += 1\n",
    "\n",
    "# In kết quả\n",
    "# Điền code còn thiếu vào đây\n",
    "print(f'So luong tu trong cau la : {sum}')"
   ]
  },
  {
   "cell_type": "markdown",
   "metadata": {
    "id": "y11vENn1mLzs"
   },
   "source": [
    "**5.5. Kiểm tra sự hợp lệ của mật khẩu**\n",
    "\n",
    "**Yêu cầu:**\n",
    "Viết chương trình yêu cầu người dùng tạo mật khẩu. Mật khẩu phải thỏa mãn các điều kiện sau:\n",
    "- Dài ít nhất 8 ký tự.\n",
    "- Không được có khoảng trắng\n",
    "- Có ít nhất một chữ cái viết hoa.\n",
    "- Có ít nhất một chữ cái viết thường.\n",
    "- Có ít nhất một chữ số.\n",
    "\n",
    "\n",
    "Sử dụng vòng lặp để yêu cầu người dùng nhập lại mật khẩu nếu mật khẩu không hợp lệ.\n"
   ]
  },
  {
   "cell_type": "code",
   "execution_count": 11,
   "metadata": {
    "colab": {
     "base_uri": "https://localhost:8080/"
    },
    "executionInfo": {
     "elapsed": 33849,
     "status": "ok",
     "timestamp": 1730362129635,
     "user": {
      "displayName": "Van Nguyen Tran Thao",
      "userId": "15365487970074691869"
     },
     "user_tz": -420
    },
    "id": "_-dTQMMqmLzt",
    "outputId": "ca026132-73a5-4a86-b5b9-5d5cce3515a5"
   },
   "outputs": [
    {
     "name": "stdout",
     "output_type": "stream",
     "text": [
      "Mật khẩu chưa hợp lệ\n"
     ]
    }
   ],
   "source": [
    "# Nhập mật khẩu\n",
    "password = input(\"Nhập mật khẩu: \")\n",
    "\n",
    "# Kiểm tra độ dài\n",
    "if len(password) < 8:\n",
    "    while True: \n",
    "        password = input(\"Nhập mật khẩu(nhieu hon 8 ki tu): \")\n",
    "        if(len(password) > 8):\n",
    "            break\n",
    "elif \" \" in password:\n",
    "     while True: \n",
    "        password = input(\"Nhập mật khẩu(khong chua khoang trang): \")\n",
    "        if(\" \" not in password):\n",
    "            break\n",
    "else:\n",
    "    has_lower = False\n",
    "    has_upper = False\n",
    "    has_digit = False\n",
    "\n",
    "    for char in password:\n",
    "        if(char.isupper()):\n",
    "            has_upper = True\n",
    "        if(char.islower()):\n",
    "            has_lower = True\n",
    "        if(char.isdigit()):\n",
    "            has_digit = True\n",
    "\n",
    "    # Kiểm tra các điều kiện của mật khẩu\n",
    "    if has_upper and has_lower and has_digit:\n",
    "        print(\"Mật khẩu hợp lệ!\")\n",
    "    else:\n",
    "        print(\"Mật khẩu chưa hợp lệ\")\n"
   ]
  },
  {
   "cell_type": "markdown",
   "metadata": {
    "id": "E3Xe5WPWmLzu"
   },
   "source": [
    "**5.6. Viết chương trình giúp người dùng quản lý thời gian sử dụng điện thoại trong tuần.**\n",
    "\n",
    "Người dùng sẽ nhập **ước lượng số giờ sử dụng điện thoại trung bình mỗi ngày**. Chương trình sẽ tính tổng thời gian sử dụng điện thoại trong tuần và đưa ra thông báo dựa trên thời gian hợp lý là **dưới 14 giờ/tuần**."
   ]
  },
  {
   "cell_type": "code",
   "execution_count": 17,
   "metadata": {
    "colab": {
     "base_uri": "https://localhost:8080/"
    },
    "executionInfo": {
     "elapsed": 27368,
     "status": "ok",
     "timestamp": 1730362575508,
     "user": {
      "displayName": "Van Nguyen Tran Thao",
      "userId": "15365487970074691869"
     },
     "user_tz": -420
    },
    "id": "NMF53kdkmLzv",
    "outputId": "4336cff7-d3d2-4034-99fd-4076f3ba5396"
   },
   "outputs": [
    {
     "name": "stdout",
     "output_type": "stream",
     "text": [
      "\n",
      "Tổng thời gian sử dụng điện thoại trong tuần là: 26.00 giờ\n",
      "Ban nen su dung it di\n"
     ]
    }
   ],
   "source": [
    "# Biến để lưu tổng thời gian sử dụng điện thoại trong tuần\n",
    "tong_thoi_gian = 0\n",
    "days = [\"Thứ 2\", \"Thứ 3\", \"Thứ 4\", \"Thứ 5\", \"Thứ 6\", \"Thứ 7\", \"Chủ nhật\"]\n",
    "\n",
    "\n",
    "# Vòng lặp để nhập thời gian sử dụng điện thoại cho từng ngày trong tuần (đơn vị giờ)\n",
    "\n",
    "for i in days:\n",
    "    thoi_gian_sd = int(input(\"Nhap thoi gian su dung dien thoai vao  {} :\".format(i)))\n",
    "    tong_thoi_gian = tong_thoi_gian + thoi_gian_sd\n",
    "\n",
    "# So sánh tổng thời gian sử dụng với 14 giờ\n",
    "print(f\"\\nTổng thời gian sử dụng điện thoại trong tuần là: {tong_thoi_gian:.2f} giờ\")\n",
    "if tong_thoi_gian > 14:\n",
    "    print(\"Ban nen su dung it di\")\n",
    "else:\n",
    "    print(\"Ban da su dung vua du\")\n"
   ]
  },
  {
   "cell_type": "markdown",
   "metadata": {
    "id": "T3xGGmYMmOWU"
   },
   "source": [
    "**5.6 Quản lý ngân sách cá nhân**\n",
    "\n",
    "Một người dùng muốn quản lý ngân sách hàng tháng của mình, bao gồm các khoản chi tiêu hàng ngày. Mỗi khi có một khoản chi tiêu mới, người dùng sẽ nhập số tiền đã chi và lý do chi tiêu đó.\n",
    "\n",
    "Viết chương trình:\n",
    "\n",
    "- Khởi tạo ngân sách đầu tháng (ví dụ, 10 triệu đồng).\n",
    "- Yêu cầu người dùng nhập số tiền đã chi và lý do chi tiêu mỗi ngày.\n",
    "- Cập nhật số dư sau mỗi khoản chi.\n",
    "- Nếu số dư xuống dưới 2 triệu đồng, cảnh báo người dùng rằng ngân sách còn ít.\n",
    "- Nếu người dùng muốn dừng nhập, họ sẽ nhập 0 làm số tiền chi tiêu.\n",
    "- Cuối tháng, hiển thị tổng chi tiêu và số dư còn lại."
   ]
  },
  {
   "cell_type": "code",
   "execution_count": 20,
   "metadata": {
    "colab": {
     "base_uri": "https://localhost:8080/"
    },
    "executionInfo": {
     "elapsed": 74952,
     "status": "ok",
     "timestamp": 1730043077654,
     "user": {
      "displayName": "Van Nguyen Tran Thao",
      "userId": "15365487970074691869"
     },
     "user_tz": -420
    },
    "id": "HcYys5AHmOzV",
    "outputId": "11104a98-f608-4df4-d9d8-6f8a64382a49"
   },
   "outputs": [
    {
     "name": "stdout",
     "output_type": "stream",
     "text": [
      "Nhập số tiền đã tiêu (nhập 0 để dừng): \n",
      "Ngân sách bạn còn rất it : 990\n",
      "==========Báo cáo thống kê==========\n",
      "1.ăn cơm: 10\n",
      "Tổng chi tiêu : 10\n",
      "Số dư còn lại là: 990\n"
     ]
    }
   ],
   "source": [
    "# Khởi tạo ngân sách hàng tháng\n",
    "balance = int(input(\"Nhập ngân sáng đầu tháng của bạn: \"))\n",
    "# Khởi tạo tổng chi tiêu\n",
    "total_spent = 0\n",
    "ds_chi_tieu = []\n",
    "\n",
    "# Bắt đầu vòng lặp chi tiêu\n",
    "print(\"Nhập số tiền đã tiêu (nhập 0 để dừng): \")\n",
    "while True:\n",
    "    so_tien = int(input(\"Nhập số tiền đã chi: \"))\n",
    "    if so_tien == 0: \n",
    "        break\n",
    "    ly_do = input(\"Nhập lý do chi tiêu: \")\n",
    "    total_spent += so_tien\n",
    "    balance -=so_tien\n",
    "\n",
    "    #Lưu lý do và số tiền: \n",
    "    ds_chi_tieu.append((ly_do, so_tien))\n",
    "\n",
    "    # Cảnh báo nếu ngân sách còn ít\n",
    "    if balance < 2000000:\n",
    "        print(f\"Ngân sách bạn còn rất it : {balance:,}\")\n",
    "\n",
    "# In ra báo cáo cuối tháng\n",
    "print(\"==========Báo cáo thống kê==========\")\n",
    "for idx, (ly_do, tien) in enumerate(ds_chi_tieu, 1):\n",
    "    print(f\"{idx}.{ly_do}: {tien:,}\")\n",
    "print(f\"Tổng chi tiêu : {total_spent:,}\")\n",
    "print(f\"Số dư còn lại là: {balance:,}\")"
   ]
  },
  {
   "cell_type": "code",
   "execution_count": null,
   "metadata": {
    "id": "t0dA7QzCnuCF"
   },
   "outputs": [],
   "source": []
  }
 ],
 "metadata": {
  "colab": {
   "provenance": []
  },
  "kernelspec": {
   "display_name": "base",
   "language": "python",
   "name": "python3"
  },
  "language_info": {
   "codemirror_mode": {
    "name": "ipython",
    "version": 3
   },
   "file_extension": ".py",
   "mimetype": "text/x-python",
   "name": "python",
   "nbconvert_exporter": "python",
   "pygments_lexer": "ipython3",
   "version": "3.13.5"
  }
 },
 "nbformat": 4,
 "nbformat_minor": 0
}
