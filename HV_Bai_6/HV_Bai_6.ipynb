{
 "cells": [
  {
   "cell_type": "markdown",
   "metadata": {
    "id": "EAfBe4WpZD_t"
   },
   "source": [
    "# Built-in Functions"
   ]
  },
  {
   "cell_type": "markdown",
   "metadata": {
    "id": "bMKXoYzaZD_v"
   },
   "source": [
    "**6.1 Giải phương trình bậc 2**"
   ]
  },
  {
   "cell_type": "code",
   "execution_count": 1,
   "metadata": {
    "id": "XLGlX2vpZD_v",
    "outputId": "c2e25540-bee0-4458-89eb-95f1cf4a6909"
   },
   "outputs": [
    {
     "name": "stdout",
     "output_type": "stream",
     "text": [
      "Phương trình có hai nghiệm phân biệt x1 = -2.69 và x2 = -3.31\n"
     ]
    }
   ],
   "source": [
    "from math import sqrt\n",
    "\n",
    "a = eval(input('Nhập a: '))\n",
    "b = eval(input(\"Nhập b: \"))\n",
    "c = eval(input(\"Nhập c: \"))\n",
    "\n",
    "if a == 0:\n",
    "    # Giải phương trình bậc nhất\n",
    "    x = -b/c\n",
    "    print(f\"Phương trình có một nghiệm x = {x}\")\n",
    "else:\n",
    "    # Giải phương trình bậc hai\n",
    "    delta = b** - 4*a*c\n",
    "    if delta > 0:\n",
    "        x1 = (-b + sqrt(delta))/2*a\n",
    "        x2 = (-b - sqrt(delta))/2*a\n",
    "        print(f\"Phương trình có hai nghiệm phân biệt x1 = {x1:.2f} và x2 = {x2:.2f}\")\n",
    "    elif delta == 0:\n",
    "        x = -b/2*a\n",
    "        print(f\"Phương trình có nghiệm kép là x = {x}\")\n",
    "    else:\n",
    "        print(\"Phương trình vô nghiệm\")"
   ]
  },
  {
   "cell_type": "markdown",
   "metadata": {
    "id": "c9gbVcovZD_x"
   },
   "source": [
    "**6.2 Tìm kiếm thức uống**\n",
    "\n",
    "Viết chương trình cho phép nhập vào từ khóa (không phân biệt HOA thường), thực hiện chức năng tìm kiếm và hiển thị kết quả ra màn hình. Cho danh sách:\n",
    "```python\n",
    "danh_sach_thuc_uong = ['Bạc Xỉu Đá', 'Freeze Trà Xanh',\n",
    "                       'Trà Thạch Vải', 'Trà Thanh Đào',\n",
    "                       'Cappuccino', 'Cà Phê Sữa Đá']\n",
    "```"
   ]
  },
  {
   "cell_type": "code",
   "execution_count": 8,
   "metadata": {
    "id": "AiD-TkGyZD_x"
   },
   "outputs": [
    {
     "name": "stdout",
     "output_type": "stream",
     "text": [
      "Kết quả tìm kiếm:  Freeze Trà Xanh, Trà Thạch Vải, Trà Thanh Đào\n"
     ]
    }
   ],
   "source": [
    "danh_sach_thuc_uong = ['Bạc Xỉu Đá', 'Freeze Trà Xanh',\n",
    "                       'Trà Thạch Vải', 'Trà Thanh Đào',\n",
    "                       'Cappuccino', 'Cà Phê Sữa Đá']\n",
    "\n",
    "tu_khoa = input('Nhập từ khóa cần tìm: ').lower()\n",
    "\n",
    "danh_sach_tim_kiem = []\n",
    "\n",
    "for thuc_uong in danh_sach_thuc_uong:\n",
    "    if tu_khoa in thuc_uong.lower():\n",
    "        danh_sach_tim_kiem.append(thuc_uong)\n",
    "if danh_sach_thuc_uong:\n",
    "    print(\"Kết quả tìm kiếm: \",\", \".join(danh_sach_tim_kiem))\n",
    "else: \n",
    "    print(\"Không tìm thấy từ khóa\")"
   ]
  },
  {
   "cell_type": "markdown",
   "metadata": {
    "id": "pv1lHXlKZD_y"
   },
   "source": [
    "**6.3 Làm việc với datetime**\n",
    "\n",
    "Viết chương trình cho phép người dùng nhập vào ngày tháng năm sinh. Xuất ra màn hình kết quả:\n",
    "- Ngày sinh nhật kế tiếp là ngày mấy?\n",
    "- Còn bao nhiêu ngày (so_ngay) nữa là đến ngày sinh nhật lần thứ (so_lan_sinh_nhat) của người dùng?\n"
   ]
  },
  {
   "cell_type": "code",
   "execution_count": 19,
   "metadata": {
    "id": "yBmv5dioZD_y",
    "outputId": "c9360def-b6a0-4e2a-c5a0-d0f0330d69bf"
   },
   "outputs": [
    {
     "name": "stdout",
     "output_type": "stream",
     "text": [
      "Ngày sinh nhật kế tiếp của bạn: 29/09/2025\n",
      "Số ngày sinh nhật đến ngày sinh nhật thứ 21 của người dùng: 5\n"
     ]
    }
   ],
   "source": [
    "import datetime\n",
    "ngay_sinh = input('\\nNhập ngày sinh (dd/mm/yyyy): ')\n",
    "ngay_sinh = datetime.datetime.strptime(ngay_sinh, \"%d/%m/%Y\").date()\n",
    "\n",
    "\n",
    "ngay_hien_tai = datetime.date.today()\n",
    "ngay_sinh_nhat_ke_tiep = datetime.date(ngay_hien_tai.year, ngay_sinh.month, ngay_sinh.day)\n",
    "\n",
    "\n",
    "if ngay_hien_tai > ngay_sinh_nhat_ke_tiep:\n",
    "    ngay_sinh_nhat_ke_tiep = datetime.date(ngay_hien_tai.year + 1, ngay_sinh.month, ngay_sinh.day)\n",
    "so_lan_sinh_nhat =  ngay_sinh_nhat_ke_tiep.year - ngay_sinh.year\n",
    "so_ngay_den_sn = (ngay_sinh_nhat_ke_tiep - ngay_hien_tai).days\n",
    "\n",
    "\n",
    "print('Ngày sinh nhật kế tiếp của bạn:', ngay_sinh_nhat_ke_tiep.strftime('%d/%m/%Y'))\n",
    "print(f\"Số ngày sinh nhật đến ngày sinh nhật thứ {so_lan_sinh_nhat} của người dùng: {so_ngay_den_sn}\")\n"
   ]
  },
  {
   "cell_type": "markdown",
   "metadata": {
    "id": "4et6y-2AZD_y"
   },
   "source": [
    "**6.4 Làm việc với calendar**\n",
    "\n",
    "Viết chương trình cho phép nhập vào tháng (thang) và năm (nam). Thực hiện các yêu cầu sau:\n",
    "- Kiểm tra năm nhập vào có phải là năm nhuận không?\n",
    "- Tháng và năm nhập vào có bao nhiêu ngày?\n",
    "- Ngày cuối cùng của tháng và năm nhập vào là thứ mấy?\n",
    "- Ngày Chủ nhật đầu tiên của tháng và năm nhập vào là ngày mấy?\n",
    "- In ra lịch của tháng đó\n"
   ]
  },
  {
   "cell_type": "code",
   "execution_count": 33,
   "metadata": {
    "id": "5nIrTZQaZD_z",
    "outputId": "eb7b54a4-578e-4416-c0b9-7cc46e2fb971"
   },
   "outputs": [
    {
     "name": "stdout",
     "output_type": "stream",
     "text": [
      "------------------------------------------------------------\n",
      "Năm 2025 không là năm nhuận\n",
      "Tháng 10 năm 2025 có 31 ngày\n",
      "Ngày cuối cùng của thang và nam nhập vào là thứ Sáu\n",
      "Ngày cuối cùng của tháng 10 năm 2025 là Thứ sáu\n",
      "Ngày Chủ nhật đầu tiên của tháng 10 năm 2025 là ngày 5\n",
      "Ngày Chủ nhật đầu tiên của tháng 10 năm 2025 là ngày 5\n",
      "    October 2025\n",
      "Mo Tu We Th Fr Sa Su\n",
      "       1  2  3  4  5\n",
      " 6  7  8  9 10 11 12\n",
      "13 14 15 16 17 18 19\n",
      "20 21 22 23 24 25 26\n",
      "27 28 29 30 31\n",
      "\n"
     ]
    }
   ],
   "source": [
    "import calendar\n",
    "\n",
    "\n",
    "thang = int(input('Nhập tháng: '))\n",
    "nam = int(input('Nhập năm: '))\n",
    "\n",
    "print('-' * 60)\n",
    "\n",
    "# 1. Năm nhập vào có phải là năm nhuận hay không?\n",
    "if calendar.isleap(nam):\n",
    "    print('Năm %i là năm nhuận' % nam)\n",
    "else:\n",
    "    print('Năm %i không là năm nhuận' % nam)\n",
    "\n",
    "# 2. tháng và năm nhập vào có bao nhiêu ngày?\n",
    "so_ngay = calendar.monthrange(nam, thang)[1] #=> trả về tuple thứ đầu tiên trong tháng và số ngày trong tháng\n",
    "print('Tháng %i năm %i có %i ngày' % (thang, nam, so_ngay))\n",
    "\n",
    "# 3. Ngày cuối cùng của thang và nam nhập vào là thứ mấy?\n",
    "thu = calendar.weekday(nam, thang, so_ngay)\n",
    "if thu == 0:\n",
    "    print(\"Ngày cuối cùng của thang và nam nhập vào là thứ Hai\")\n",
    "elif thu == 1: \n",
    "    print(\"Ngày cuối cùng của thang và nam nhập vào là thứ Ba\")\n",
    "elif thu == 2: \n",
    "    print(\"Ngày cuối cùng của thang và nam nhập vào là thứ Tư\")\n",
    "elif thu == 3: \n",
    "    print(\"Ngày cuối cùng của thang và nam nhập vào là thứ Năm\")\n",
    "elif thu == 4: \n",
    "    print(\"Ngày cuối cùng của thang và nam nhập vào là thứ Sáu\")\n",
    "elif thu == 5: \n",
    "    print(\"Ngày cuối cùng của thang và nam nhập vào là thứ Bảy\")\n",
    "elif thu == 6: \n",
    "    print(\"Ngày cuối cùng của thang và nam nhập vào là Chủ Nhật\")\n",
    "\n",
    "\n",
    "# Cách 2: sau khi học list:\n",
    "ngay_trong_tuan = [\"Thứ hai\", \"Thứ ba\", \"Thứ tư\", \"Thứ năm\", \"Thứ sáu\", \"Thứ bảy\", \"Chủ nhật\"]\n",
    "print('Ngày cuối cùng của tháng %i năm %i là %s' % (thang, nam, ngay_trong_tuan[thu]))\n",
    "\n",
    "# 4. Ngày chủ nhật đầu tiên của thang và nam là ngày mấy?\n",
    "for ngay in range(1, so_ngay + 1):\n",
    "    if calendar.weekday(nam, thang, ngay) == 6:\n",
    "        print('Ngày Chủ nhật đầu tiên của tháng %i năm %i là ngày %i' % (thang, nam, ngay))\n",
    "        break\n",
    "\n",
    "# Cách 2: dùng list\n",
    "ngay = calendar.monthcalendar(nam, thang)[0][6]\n",
    "print('Ngày Chủ nhật đầu tiên của tháng %i năm %i là ngày %i' % (thang, nam, ngay))\n",
    "\n",
    "# 5. In ra lịch của tháng đó\n",
    "print(calendar.month(nam, thang))\n"
   ]
  },
  {
   "cell_type": "code",
   "execution_count": 32,
   "metadata": {},
   "outputs": [
    {
     "name": "stdout",
     "output_type": "stream",
     "text": [
      "[[0, 0, 1, 2, 3, 4, 5], [6, 7, 8, 9, 10, 11, 12], [13, 14, 15, 16, 17, 18, 19], [20, 21, 22, 23, 24, 25, 26], [27, 28, 29, 30, 31, 0, 0]]\n"
     ]
    }
   ],
   "source": [
    "nam = 2025\n",
    "thang = 10\n",
    "ngay = calendar.monthcalendar(nam, thang)\n",
    "\n",
    "print(ngay)"
   ]
  },
  {
   "cell_type": "markdown",
   "metadata": {},
   "source": [
    "**6.5 Tính phần trăm hoa hồng cho nhân viên bán hàng**\n",
    "\n",
    "**Yêu cầu**: Sử dụng hàm `lambda` để tính phần trăm hoa hồng cho nhân viên bán hàng dựa trên doanh số mà họ đạt được. Quy tắc tính hoa hồng như sau:\n",
    "\n",
    "- Nếu doanh số dưới 20 triệu, không nhận được hoa hồng.\n",
    "- Nếu doanh số từ 20 triệu đến dưới 50 triệu, hoa hồng là 5%.\n",
    "- Nếu doanh số từ 50 triệu trở lên, hoa hồng là 10%."
   ]
  },
  {
   "cell_type": "code",
   "execution_count": 2,
   "metadata": {},
   "outputs": [
    {
     "name": "stdout",
     "output_type": "stream",
     "text": [
      "\n",
      "Số tiền hoa hồng bạn nhận được là:  6,600,000 VND\n"
     ]
    }
   ],
   "source": [
    "# Hàm lambda để tính hoa hồng\n",
    "hoa_hong = lambda ds: 0 if ds < 20000000 else (ds*0.05 if ds<50000000 else ds*0.1)\n",
    "\n",
    "# Nhập doanh số từ người dùng\n",
    "doanh_so = float(input(\"Nhập doanh số của bạn (VND): \"))\n",
    "\n",
    "# Tính hoa hồng và hiển thị kết quả\n",
    "hoa_hong = hoa_hong(doanh_so)\n",
    "print(f\"\\nSố tiền hoa hồng bạn nhận được là: {int(hoa_hong): ,} VND\")"
   ]
  },
  {
   "cell_type": "markdown",
   "metadata": {
    "id": "6eGjo9M7ZD_z"
   },
   "source": [
    "# User-defined Functions"
   ]
  },
  {
   "cell_type": "markdown",
   "metadata": {
    "id": "ObxeA0pJZD_z"
   },
   "source": [
    "**6.6 Kiểm tra ngày hợp lệ**\n",
    "\n",
    "Viết chương trình cho người dùng nhập vào 1 chuỗi theo định dạng dd/MM/yyyy, xây dựng hàm kiểm tra các thành phần ngày, tháng, năm nhập vào có hợp lệ hay không."
   ]
  },
  {
   "cell_type": "code",
   "execution_count": 13,
   "metadata": {
    "id": "dgtsg4VwZD_0"
   },
   "outputs": [
    {
     "name": "stdout",
     "output_type": "stream",
     "text": [
      "True\n"
     ]
    }
   ],
   "source": [
    "import calendar\n",
    "\n",
    "def kiem_tra_ngay_thang_nam(chuoi):\n",
    "    try: \n",
    "        ngay, thang, nam = map(int, chuoi.split('/'))\n",
    "        #kiểm tra năm\n",
    "        if isinstance(nam, int) == False or nam < 0:\n",
    "            return False\n",
    "        elif not(1 <= thang <= 12): \n",
    "            return False\n",
    "        \n",
    "        so_ngay = calendar.monthrange(nam, thang)[1]\n",
    "        if 1 <= ngay <= so_ngay:\n",
    "            return True\n",
    "        else: \n",
    "            return False\n",
    "    except: \n",
    "        return print(chuoi)\n",
    "\n",
    "chuoi_ngay_thang = input('Nhập chuỗi (dd/MM/yyyy): ')\n",
    "if kiem_tra_ngay_thang_nam(chuoi_ngay_thang):\n",
    "    print('True')\n",
    "else: \n",
    "    print(\"False\")"
   ]
  },
  {
   "cell_type": "markdown",
   "metadata": {
    "id": "neQ-jKMxZD_0"
   },
   "source": [
    "**6.7 Tính chỉ số BMI**\n",
    "\n",
    "**Yêu cầu**: Viết một hàm `tinh_bmi()` nhận vào chiều cao (mét) và cân nặng (kg), sau đó tính toán và trả về chỉ số BMI. Sau đó, dựa vào giá trị BMI, hàm sẽ đưa ra đánh giá về tình trạng cơ thể: thiếu cân, bình thường, thừa cân, hoặc béo phì.\n",
    "\n",
    "- **Công thức BMI**:\n",
    "  $$\n",
    "  BMI = \\frac{\\text{cân nặng (kg)}}{\\text{chiều cao}^2 \\text{(m)}}\n",
    "  $$\n",
    "\n",
    "- **Phân loại BMI**:\n",
    "  - BMI < 18.5: Thiếu cân.\n",
    "  - 18.5 ≤ BMI < 24.9: Bình thường.\n",
    "  - 25 ≤ BMI < 29.9: Thừa cân.\n",
    "  - BMI ≥ 30: Béo phì."
   ]
  },
  {
   "cell_type": "code",
   "execution_count": null,
   "metadata": {
    "id": "gY076T0xZD_0"
   },
   "outputs": [],
   "source": [
    "def tinh_bmi(cao, nang):\n",
    "    # Điền code còn thiếu vào đây\n",
    "\n",
    "# Nhập chiều cao và cân nặng\n",
    "# Điền code còn thiếu vào đây\n",
    "\n",
    "# Tính BMI và in kết quả\n",
    "# Điền code còn thiếu vào đây"
   ]
  },
  {
   "cell_type": "markdown",
   "metadata": {
    "id": "aCic22LsZD_0"
   },
   "source": [
    "**6.8 Viết hàm cho các bài tập đã thực hiện trước đó (Optional)**\n",
    "- Kiểm tra mật khẩu có hợp lệ.\n",
    "- Kiểm tra số nguyên tố.\n",
    "- Giải phương trình bậc hai."
   ]
  },
  {
   "cell_type": "code",
   "execution_count": null,
   "metadata": {
    "id": "DDRjTd4jZD_0"
   },
   "outputs": [],
   "source": [
    "# Kiểm tra mật khẩu có hợp lệ hay không?\n",
    "import re\n",
    "\n",
    "def kiem_tra_mat_khau(mat_khau):\n",
    "    # Điền code còn thiếu vào đây\n",
    "\n",
    "# Ví dụ sử dụng:\n",
    "# Điền code còn thiếu vào đây"
   ]
  },
  {
   "cell_type": "code",
   "execution_count": null,
   "metadata": {
    "id": "PhyERVqoZD_1"
   },
   "outputs": [],
   "source": [
    "# Kiểm tra số nguyên tố\n",
    "def kiem_tra_so_nguyen_to(n):\n",
    "    # Điền code còn thiếu vào đây\n",
    "\n",
    "# Ví dụ sử dụng:\n",
    "n = 17\n",
    "print(kiem_tra_so_nguyen_to(n))  # True (17 là số nguyên tố)"
   ]
  },
  {
   "cell_type": "code",
   "execution_count": null,
   "metadata": {
    "id": "CloPL6MqZD_1"
   },
   "outputs": [],
   "source": [
    "# Giải phương trình bậc 2\n",
    "import math\n",
    "\n",
    "def giai_phuong_trinh_bac_hai(a, b, c):\n",
    "    # Điền code còn thiếu vào đây\n",
    "# Ví dụ sử dụng:\n",
    "a, b, c = 1, -3, 2\n",
    "print(giai_phuong_trinh_bac_hai(a, b, c))  # Phương trình có hai nghiệm: x1 = 2.0, x2 = 1.0"
   ]
  },
  {
   "cell_type": "markdown",
   "metadata": {
    "id": "c8WfRFS_ZD_1"
   },
   "source": [
    "**6.9 Viết chương trình cho người dùng nhập vào năm dương lịch, tính và hiển thị kết quả năm âm lịch.**\n",
    "Xử lý: Xây dựng hàm `tinh_can(nam)` và hàm `tinh_chi(nam)` theo quy tắc sau:\n",
    "\n",
    "- **Tính can**: Năm dương lịch chia lấy dư cho 10, kết quả dựa theo bảng sau:\n",
    "\n",
    "| 0   | 1   | 2    | 3   | 4    | 5   | 6   | 7    | 8   | 9   |\n",
    "| --- | --- | ---- | --- | ---- | --- | --- | ---- | --- | --- |\n",
    "| Canh| Tân | Nhâm | Quý | Giáp | Ất  | Bính| Đinh | Mậu | Kỷ  |\n",
    "\n",
    "- **Tính chi**: Năm dương lịch chia lấy dư cho 12, kết quả dựa theo bảng sau:\n",
    "\n",
    "| 0   | 1   | 2    | 3   | 4   | 5   | 6   | 7   | 8   | 9   | 10 | 11  |\n",
    "| --- | --- | ---- | --- | --- | --- | --- | --- | --- | --- | ---| --- |\n",
    "| Thân| Dậu | Tuất | Hợi | Tý  | Sửu| Dần | Mão | Thìn| Tỵ  | Ngọ| Mùi |"
   ]
  },
  {
   "cell_type": "code",
   "execution_count": null,
   "metadata": {
    "id": "LJSHIwgvZD_1",
    "outputId": "56e0bf36-5524-4a2d-d086-e83250e12491"
   },
   "outputs": [
    {
     "name": "stdout",
     "output_type": "stream",
     "text": [
      "Năm 2024 âm lịch là năm Giáp Thìn\n"
     ]
    }
   ],
   "source": [
    "# Xây dựng hàm\n",
    "def tinh_can(nam):\n",
    "    can = nam % 10\n",
    "    return can\n",
    "\n",
    "def tinh_chi(nam):\n",
    "    chi = nam % 12\n",
    "    return chi\n",
    "\n",
    "# Gọi hàm\n",
    "nam = int(input('Nhập năm: '))\n",
    "\n",
    "# Cách 1:\n",
    "so_can = tinh_can(nam)\n",
    "so_chi = tinh_chi(nam)\n",
    "\n",
    "# lấy can:\n",
    "# Điền code còn thiếu vào đây\n",
    "\n",
    "# lấy chi:\n",
    "# Điền code còn thiếu vào đây\n",
    "\n",
    "print(f'Năm {nam} âm lịch là năm {can} {chi}')"
   ]
  },
  {
   "cell_type": "markdown",
   "metadata": {
    "id": "OfT5NrPguOM0"
   },
   "source": [
    "**6.10 Viết hàm get_response API để đặt câu hỏi với chatbot**"
   ]
  },
  {
   "cell_type": "code",
   "execution_count": 1,
   "metadata": {
    "colab": {
     "base_uri": "https://localhost:8080/"
    },
    "executionInfo": {
     "elapsed": 9642,
     "status": "ok",
     "timestamp": 1730676482009,
     "user": {
      "displayName": "Van Nguyen Tran Thao",
      "userId": "15365487970074691869"
     },
     "user_tz": -420
    },
    "id": "tpWt51ySE7il",
    "outputId": "17b55fb7-0052-49a5-caed-5d2f72f1c587"
   },
   "outputs": [
    {
     "name": "stdout",
     "output_type": "stream",
     "text": [
      "Collecting groq\n",
      "  Downloading groq-0.11.0-py3-none-any.whl.metadata (13 kB)\n",
      "Requirement already satisfied: anyio<5,>=3.5.0 in /usr/local/lib/python3.10/dist-packages (from groq) (3.7.1)\n",
      "Requirement already satisfied: distro<2,>=1.7.0 in /usr/local/lib/python3.10/dist-packages (from groq) (1.9.0)\n",
      "Requirement already satisfied: httpx<1,>=0.23.0 in /usr/local/lib/python3.10/dist-packages (from groq) (0.27.2)\n",
      "Requirement already satisfied: pydantic<3,>=1.9.0 in /usr/local/lib/python3.10/dist-packages (from groq) (2.9.2)\n",
      "Requirement already satisfied: sniffio in /usr/local/lib/python3.10/dist-packages (from groq) (1.3.1)\n",
      "Requirement already satisfied: typing-extensions<5,>=4.7 in /usr/local/lib/python3.10/dist-packages (from groq) (4.12.2)\n",
      "Requirement already satisfied: idna>=2.8 in /usr/local/lib/python3.10/dist-packages (from anyio<5,>=3.5.0->groq) (3.10)\n",
      "Requirement already satisfied: exceptiongroup in /usr/local/lib/python3.10/dist-packages (from anyio<5,>=3.5.0->groq) (1.2.2)\n",
      "Requirement already satisfied: certifi in /usr/local/lib/python3.10/dist-packages (from httpx<1,>=0.23.0->groq) (2024.8.30)\n",
      "Requirement already satisfied: httpcore==1.* in /usr/local/lib/python3.10/dist-packages (from httpx<1,>=0.23.0->groq) (1.0.6)\n",
      "Requirement already satisfied: h11<0.15,>=0.13 in /usr/local/lib/python3.10/dist-packages (from httpcore==1.*->httpx<1,>=0.23.0->groq) (0.14.0)\n",
      "Requirement already satisfied: annotated-types>=0.6.0 in /usr/local/lib/python3.10/dist-packages (from pydantic<3,>=1.9.0->groq) (0.7.0)\n",
      "Requirement already satisfied: pydantic-core==2.23.4 in /usr/local/lib/python3.10/dist-packages (from pydantic<3,>=1.9.0->groq) (2.23.4)\n",
      "Downloading groq-0.11.0-py3-none-any.whl (106 kB)\n",
      "\u001b[2K   \u001b[90m━━━━━━━━━━━━━━━━━━━━━━━━━━━━━━━━━━━━━━━━\u001b[0m \u001b[32m106.5/106.5 kB\u001b[0m \u001b[31m2.9 MB/s\u001b[0m eta \u001b[36m0:00:00\u001b[0m\n",
      "\u001b[?25hInstalling collected packages: groq\n",
      "Successfully installed groq-0.11.0\n"
     ]
    }
   ],
   "source": [
    "!pip install groq"
   ]
  },
  {
   "cell_type": "code",
   "execution_count": null,
   "metadata": {
    "executionInfo": {
     "elapsed": 2673,
     "status": "ok",
     "timestamp": 1730676484673,
     "user": {
      "displayName": "Van Nguyen Tran Thao",
      "userId": "15365487970074691869"
     },
     "user_tz": -420
    },
    "id": "spCThOeMuOt4"
   },
   "outputs": [],
   "source": [
    "from groq import Groq\n",
    "def get_response_groq(prompt):\n",
    "    \"\"\"Hàm này nhận một prompt và trả về phản hồi từ mô hình của Groq.\"\"\"\n",
    "    # Khởi tạo client với API Key\n",
    "    client = Groq(api_key=\"{Your API Key}\")  # Thay thế bằng API Key của bạn\n",
    "\n",
    "     # Thêm yêu cầu trả lời bằng tiếng Việt trong prompt hoặc cấu hình ngôn ngữ nếu hỗ trợ\n",
    "    vietnamese_prompt = f\"Trả lời bằng tiếng Việt: {prompt}\"\n",
    "\n",
    "    # Gửi yêu cầu tới Groq\n",
    "    response = client.chat.completions.create(\n",
    "        model=\"llama3-70b-8192\",  # Sử dụng mô hình Groq\n",
    "        messages=[{\"role\": \"user\", \"content\": vietnamese_prompt}]\n",
    "    )\n",
    "    # Trả về nội dung phản hồi từ API\n",
    "    return response.choices[0].message.content"
   ]
  },
  {
   "cell_type": "code",
   "execution_count": null,
   "metadata": {
    "executionInfo": {
     "elapsed": 16,
     "status": "ok",
     "timestamp": 1730676484676,
     "user": {
      "displayName": "Van Nguyen Tran Thao",
      "userId": "15365487970074691869"
     },
     "user_tz": -420
    },
    "id": "aeeP5e_r8T2w"
   },
   "outputs": [],
   "source": [
    "def print_response_groq(prompt):\n",
    "    \"\"\"Hàm này nhận đầu vào là một prompt dạng chuỗi và gửi yêu cầu tới API của Groq Studio.\n",
    "    Sau đó, nó sẽ in ra phản hồi của model dưới dạng chuỗi.\"\"\"\n",
    "        # Kiểm tra xem prompt có phải là chuỗi hay không\n",
    "    if not isinstance(prompt, str):\n",
    "        raise ValueError(\"Input must be a string enclosed in quotes.\")\n",
    "\n",
    "        # Khởi tạo client Groq với API Key của bạn\n",
    "    client = Groq(api_key=\"{Your API Key}\")\n",
    "\n",
    "    # Thêm yêu cầu trả lời bằng tiếng Việt trong prompt hoặc cấu hình ngôn ngữ nếu hỗ trợ\n",
    "    vietnamese_prompt = f\"Trả lời bằng tiếng Việt: {prompt}\"\n",
    "\n",
    "    # Gửi yêu cầu tới Groq\n",
    "    response = client.chat.completions.create(\n",
    "        model=\"llama3-70b-8192\",  # Sử dụng mô hình Groq\n",
    "        messages=[{\"role\": \"user\", \"content\": vietnamese_prompt}]\n",
    "    )\n",
    "        # In ra nội dung phản hồi\n",
    "    print(response.choices[0].message.content)"
   ]
  },
  {
   "cell_type": "code",
   "execution_count": 4,
   "metadata": {
    "colab": {
     "base_uri": "https://localhost:8080/",
     "height": 35
    },
    "executionInfo": {
     "elapsed": 15,
     "status": "ok",
     "timestamp": 1730676484676,
     "user": {
      "displayName": "Van Nguyen Tran Thao",
      "userId": "15365487970074691869"
     },
     "user_tz": -420
    },
    "id": "E1s4N-eYuRxJ",
    "outputId": "87b004bd-c4e0-4cc3-878f-e68e6a93f344"
   },
   "outputs": [
    {
     "data": {
      "application/vnd.google.colaboratory.intrinsic+json": {
       "type": "string"
      },
      "text/plain": [
       "'Thủ đô của Việt Nam là Hà Nội!'"
      ]
     },
     "execution_count": 4,
     "metadata": {},
     "output_type": "execute_result"
    }
   ],
   "source": [
    "get_response_groq(\"Thủ đô của Việt Nam là gì?\")"
   ]
  },
  {
   "cell_type": "code",
   "execution_count": 5,
   "metadata": {
    "executionInfo": {
     "elapsed": 16,
     "status": "ok",
     "timestamp": 1730676491442,
     "user": {
      "displayName": "Van Nguyen Tran Thao",
      "userId": "15365487970074691869"
     },
     "user_tz": -420
    },
    "id": "d0wiWPU_74yg"
   },
   "outputs": [],
   "source": [
    "prompt = \"\"\"Thủ đô của Pháp là gì?\"\"\""
   ]
  },
  {
   "cell_type": "code",
   "execution_count": 6,
   "metadata": {
    "colab": {
     "base_uri": "https://localhost:8080/"
    },
    "executionInfo": {
     "elapsed": 577,
     "status": "ok",
     "timestamp": 1730676492007,
     "user": {
      "displayName": "Van Nguyen Tran Thao",
      "userId": "15365487970074691869"
     },
     "user_tz": -420
    },
    "id": "hFK9NHTsvnJb",
    "outputId": "872f9ceb-0bb8-43ac-8aad-281c9c5508cc"
   },
   "outputs": [
    {
     "name": "stdout",
     "output_type": "stream",
     "text": [
      "Thủ đô của Pháp là Paris.\n"
     ]
    }
   ],
   "source": [
    "print_response_groq(\"Thủ đô của Pháp là gì?\")"
   ]
  },
  {
   "cell_type": "code",
   "execution_count": null,
   "metadata": {
    "id": "7I5QUdxCkgLW"
   },
   "outputs": [],
   "source": []
  }
 ],
 "metadata": {
  "colab": {
   "provenance": []
  },
  "kernelspec": {
   "display_name": "base",
   "language": "python",
   "name": "python3"
  },
  "language_info": {
   "codemirror_mode": {
    "name": "ipython",
    "version": 3
   },
   "file_extension": ".py",
   "mimetype": "text/x-python",
   "name": "python",
   "nbconvert_exporter": "python",
   "pygments_lexer": "ipython3",
   "version": "3.13.5"
  }
 },
 "nbformat": 4,
 "nbformat_minor": 0
}
