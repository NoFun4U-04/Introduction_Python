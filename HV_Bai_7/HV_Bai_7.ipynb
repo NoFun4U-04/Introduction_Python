{
 "cells": [
  {
   "cell_type": "markdown",
   "metadata": {
    "id": "5xIE3q9wuiTQ"
   },
   "source": [
    "**7.1 Danh sách thú**\n",
    "\n",
    "Viết chương trình tìm thú trong danh sách thú. Xuất ra kết quả tìm thấy hoặc không tìm thấy thú và in ra màn hình.\n",
    "```\n",
    "danh_sach_thu = ['ant', 'bear', 'cat', 'dog', 'elephant', 'fish', 'goat', 'hippo']\n",
    "```"
   ]
  },
  {
   "cell_type": "code",
   "execution_count": null,
   "metadata": {
    "id": "43S3tPRRuiTR"
   },
   "outputs": [],
   "source": [
    "danh_sach_thu = ['ant', 'bear', 'cat', 'dog', 'elephant', 'fish', 'goat', 'hippo']\n",
    "# Điền code còn thiếu vào đây\n",
    "if ten_thu.lower() in danh_sach_thu:\n",
    "    # Điền code còn thiếu vào đây\n",
    "else:\n",
    "    # Điền code còn thiếu vào đây"
   ]
  },
  {
   "cell_type": "markdown",
   "metadata": {
    "id": "A6KH8keUuiTS"
   },
   "source": [
    "**7.2 Tìm từ duy nhất**\n",
    "\n",
    "Viết chương trình tìm từ chỉ xuất hiện duy nhất 1 lần trong câu sau:\n",
    "```\n",
    "I am a teacher and I love to inspire and teach people\n",
    "```"
   ]
  },
  {
   "cell_type": "code",
   "execution_count": null,
   "metadata": {
    "id": "gjBXYyHguiTT"
   },
   "outputs": [],
   "source": [
    "sentence = 'I am a teacher and I love to inspire and teach people'\n",
    "\n",
    "# Điền code còn thiếu vào đây\n",
    "print(f'Các từ chỉ xuất hiện duy nhất 1 lần trong câu:\\n{list_word_1_time}')\n"
   ]
  },
  {
   "cell_type": "markdown",
   "metadata": {
    "id": "nIhY7qGGuiTT"
   },
   "source": [
    "**7.3 List number**\n",
    "\n",
    "Viết chương trình xử lý list theo các yêu cầu sau:\n",
    "- Tạo list: Cho phép người dùng lần lượt nhập các phần tử số cho list cho đến khi không muốn nhập nữa.\n",
    "- Tính tổng các phần tử trong list.\n",
    "- Nhập vào giá trị số nguyên $x$.\n",
    "- $x$ có xuất hiện trong list hay không không? Nếu có thì cho biết $x$ xuất hiện bao nhiêu lần?\n",
    "- $x$ có lớn hơn tất cả các số trong list không? Nếu không thì $x$ nhỏ hơn những số nào trong list? (In ra tất cả các số lớn hơn $x$).\n",
    "- Tìm và in ra các phần tử âm / phần tử dương trong list (sắp xếp tăng dần).\n",
    "- Tìm và in ra tất cả các số nguyên tố có trong list (sắp xếp tăng dần).\n",
    "- Tính trung bình cộng của các phần tử âm / phần tử dương / số nguyên tố trong list.\n"
   ]
  },
  {
   "cell_type": "code",
   "execution_count": null,
   "metadata": {
    "id": "MdQ-McUHuiTT"
   },
   "outputs": [],
   "source": [
    "def nhap_danh_sach_so():\n",
    "    # Điền code còn thiếu vào đây\n",
    "\n",
    "def tim_so_trong_danh_sach(danh_sach, x):\n",
    "    # Điền code còn thiếu vào đây\n",
    "\n",
    "def tach_danh_sach_am_duong(danh_sach):\n",
    "    # Điền code còn thiếu vào đây\n",
    "\n",
    "def la_so_nguyen_to(n):\n",
    "    # Điền code còn thiếu vào đây\n",
    "\n",
    "def tim_so_nguyen_to(danh_sach):\n",
    "    # Điền code còn thiếu vào đây\n",
    "\n",
    "def tinh_trung_binh_cac_loai_so(danh_sach):\n",
    "    # Điền code còn thiếu vào đây\n",
    "\n",
    "danh_sach_so = nhap_danh_sach_so()\n",
    "print('-' * 40)\n",
    "# Điền code còn thiếu vào đây\n",
    "\n",
    "x = int(input('Nhập x: '))\n",
    "x_info = tim_so_trong_danh_sach(danh_sach_so, x)\n",
    "# Điền code còn thiếu vào đây\n",
    "\n",
    "danh_sach_so_am, danh_sach_so_duong = tach_danh_sach_am_duong(danh_sach_so)\n",
    "print('Danh sách số âm:', danh_sach_so_am)\n",
    "print('Danh sách số dương:', danh_sach_so_duong)\n",
    "danh_sach_so_nguyen_to = tim_so_nguyen_to(danh_sach_so)\n",
    "print('Danh sách số nguyên tố:', danh_sach_so_nguyen_to)\n",
    "trung_binh_cong_am, trung_binh_cong_duong, trung_binh_cong_so_nguyen_to = tinh_trung_binh_cac_loai_so(danh_sach_so)\n",
    "print(f'Trung bình cộng các số âm: {trung_binh_cong_am}')\n",
    "print(f'Trung bình cộng các số dương: {trung_binh_cong_duong}')\n",
    "print(f'Trung bình cộng các số nguyên tố: {trung_binh_cong_so_nguyen_to}')\n"
   ]
  },
  {
   "cell_type": "markdown",
   "metadata": {
    "id": "fODNEz5juiTU"
   },
   "source": [
    "**7.4 Quản lý phim**\n",
    "\n",
    "Viết chương trình quản lý danh sách phim theo các yêu cầu:\n",
    "Cho trước danh_sach_phim như sau:\n",
    "```\n",
    "danh_sach_phim = ['Dòng chảy của nước', 'Đảo độc đắc','Tiểu đội gấu bay', 'Âm lượng hủy diệt', 'Búp bê gọi hồn', 'Tro tàn rực rỡ', 'Nữ chiến binh Amazon', 'Khỉ con lon ton thế giới']\n",
    "```\n",
    "Tạo menu có 4 chức năng: Đọc danh sách, Thêm phim mới, Cập nhật phim, Xóa phim"
   ]
  },
  {
   "cell_type": "code",
   "execution_count": null,
   "metadata": {
    "id": "E90w7CXbuiTU"
   },
   "outputs": [],
   "source": [
    "danh_sach_phim = [\n",
    "    'Dòng chảy của nước',\n",
    "    'Đảo độc đắc',\n",
    "    'Tiểu đội gấu bay',\n",
    "    'Âm lượng hủy diệt',\n",
    "    'Búp bê gọi hồn',\n",
    "    'Tro tàn rực rỡ'\n",
    "]\n",
    "def doc_danh_sach(danh_sach_phim):\n",
    "    # Điền code còn thiếu vào đây\n",
    "\n",
    "def them_phim_moi(danh_sach_phim):\n",
    "    # Điền code còn thiếu vào đây\n",
    "\n",
    "def cap_nhat_phim(danh_sach_phim):\n",
    "    # Điền code còn thiếu vào đây\n",
    "\n",
    "def xoa_phim(danh_sach_phim):\n",
    "    # Điền code còn thiếu vào đây\n",
    "\n",
    "tieu_de = '-' * 5 + ' QUẢN LÝ PHIM ' + '-' * 5\n",
    "print(tieu_de)\n",
    "\n",
    "dieu_kien = True\n",
    "while dieu_kien:\n",
    "    # Điền code còn thiếu vào đây\n"
   ]
  },
  {
   "cell_type": "markdown",
   "metadata": {
    "id": "CO2PoYcsuiTV"
   },
   "source": [
    "**7.5 Tuple string**\n",
    "\n",
    "Viết chương trình xử lý các yêu cầu sau:\n",
    "- Cho tuple:\n",
    "```\n",
    "tuple_colors = ('red', 'green', 'yellow', 'blue', 'black', 'white', 'pink', 'orange', 'red', 'blue')\n",
    "```\n",
    "- Cho người dùng nhập vào index (0 <= index <= len-1) và negative index (-len < negative_index <= -1)\n",
    "- Cho người dùng nhập vào 1 màu cần tìm (find_color).\n",
    "- Hiển thị giá trị tại vị trí index, negative_index.\n",
    "- Hiển thị kết quả số lần xuất hiện của find_color đã nhập. Nếu có xuất hiện thì chỉ ra các vị trí index. Ngược lại thì thông báo không tìm thấy.\n",
    "- Sắp xếp các giá trị trong tuple_colors theo thứ tự tăng dần.\n"
   ]
  },
  {
   "cell_type": "code",
   "execution_count": null,
   "metadata": {
    "id": "WP3n0c6euiTV"
   },
   "outputs": [],
   "source": [
    "# Định nghĩa tuple các màu sắc\n",
    "tuple_colors = ('red', 'green', 'yellow', 'blue', 'black', 'white', 'pink', 'orange', 'red', 'blue')\n",
    "\n",
    "# Nhập vào index và negative index\n",
    "# Điền code còn thiếu vào đây\n",
    "\n",
    "# In kết quả\n",
    "print('-' * 80)\n",
    "# Điền code còn thiếu vào đây\n",
    "\n",
    "# Tìm các vị trí của màu cần tìm\n",
    "list_index = [str(i) for i, color in enumerate(tuple_colors) if color == find_color]\n",
    "# Điền code còn thiếu vào đây\n",
    "\n",
    "# In danh sách sau khi sắp xếp tăng dần\n",
    "print(f'- Danh sách sau khi sắp xếp tăng dần:\\n{tuple(sorted(tuple_colors))}')\n"
   ]
  },
  {
   "cell_type": "markdown",
   "metadata": {
    "id": "A8PBcIxYuiTV"
   },
   "source": [
    "**7.6 Từ điển**\n",
    "\n",
    "Viết chương trình làm việc với từ điển, thực hiện theo các yêu cầu:\n",
    "Cho trước tu_dien như sau:\n",
    "```\n",
    "tu_dien = {\n",
    "    'man': ['đàn ông', 'nam nhi'], 'woman': ['đàn bà', 'phụ nữ'],\n",
    "    'sun': ['mặt trời'], 'moon': ['mặt trăng'],\n",
    "    'earth': ['trái đất', 'địa cầu'],\n",
    "    'mountain': ['núi', 'ngọn núi'], 'table': ['cái bàn'],\n",
    "    'ball': ['quả bóng'], 'flower': ['hoa', 'bông hoa'],\n",
    "    'fan': ['cái quạt']\n",
    "}\n",
    "```\n",
    "Tạo menu có 4 chức năng: Tra từ điển, Thêm từ mới, Thêm nghĩa (từ đang có trong tu_dien), Xóa từ."
   ]
  },
  {
   "cell_type": "code",
   "execution_count": null,
   "metadata": {
    "id": "c5mUpCGDuiTV"
   },
   "outputs": [],
   "source": [
    "def tra_tu(tu_dien):\n",
    "    \"\"\"\n",
    "    Tìm và hiển thị nghĩa của từ tiếng Anh trong từ điển.\n",
    "    \"\"\"\n",
    "    # Điền code còn thiếu vào đây\n",
    "\n",
    "def them_tu(tu_dien):\n",
    "    \"\"\"\n",
    "    Thêm từ mới vào từ điển với các nghĩa tương ứng.\n",
    "    \"\"\"\n",
    "    # Điền code còn thiếu vào đây\n",
    "\n",
    "def them_nghia(tu_dien):\n",
    "    \"\"\"\n",
    "    Thêm nghĩa mới cho từ đã có trong từ điển.\n",
    "    \"\"\"\n",
    "    # Điền code còn thiếu vào đây\n",
    "\n",
    "def xoa_tu(tu_dien):\n",
    "    \"\"\"\n",
    "    Xóa một từ tiếng Anh khỏi từ điển.\n",
    "    \"\"\"\n",
    "    # Điền code còn thiếu vào đây\n",
    "\n",
    "# Từ điển mẫu\n",
    "tu_dien = {\n",
    "    'man': ['đàn ông', 'nam nhi'],\n",
    "    'woman': ['đàn bà', 'phụ nữ'],\n",
    "    'sun': ['mặt trời'],\n",
    "    'moon': ['mặt trăng'],\n",
    "    'earth': ['trái đất', 'địa cầu'],\n",
    "    'mountain': ['núi', 'ngọn núi'],\n",
    "    'table': ['cái bàn'],\n",
    "    'ball': ['quả bóng'],\n",
    "    'flower': ['hoa', 'bông hoa'],\n",
    "    'fan': ['cái quạt']\n",
    "}\n",
    "\n",
    "# Chương trình chính\n",
    "print(\"Chào mừng bạn đến với chương trình từ điển tiếng Anh - Tiếng Việt!\")\n",
    "print(\"Bạn có thể thực hiện các thao tác sau:\")\n",
    "print(\"1. Tra từ: Tìm và hiển thị nghĩa của từ tiếng Anh trong từ điển.\")\n",
    "print(\"2. Thêm từ: Thêm một từ mới vào từ điển kèm các nghĩa của nó.\")\n",
    "print(\"3. Thêm nghĩa: Cập nhật thêm nghĩa cho từ đã có trong từ điển.\")\n",
    "print(\"4. Xóa từ: Xóa một từ khỏi từ điển.\\n\")\n",
    "\n",
    "while True:\n",
    "    # Hướng dẫn người dùng về các tùy chọn\n",
    "    # Điền code còn thiếu vào đây\n",
    "    \n",
    "    # Thực hiện chức năng dựa trên lựa chọn\n",
    "    # Điền code còn thiếu vào đây\n",
    "\n",
    "    # Hỏi người dùng có muốn tiếp tục không\n",
    "    tiep_tuc = input('\\nBạn có muốn tiếp tục sử dụng từ điển không? (y/n): ').lower()\n",
    "    if tiep_tuc != 'y':\n",
    "        print('Cảm ơn bạn đã sử dụng chương trình từ điển! Tạm biệt!')\n",
    "        break\n"
   ]
  },
  {
   "cell_type": "markdown",
   "metadata": {
    "id": "cdkmeFIQuiTW"
   },
   "source": [
    "**7.7 Set number**\n",
    "\n",
    "Viết chương trình thực hiện việc xử lý trên set như sau:\n",
    "Tạo set: Cho phép người dùng nhập vào set 1 cho đến khi không muốn nhập nữa thì chuyển sang cho người dùng nhập tiếp set 2. Sau khi người dùng nhập xong set 2 thì thực hiện các yêu cầu sau:\n",
    "- In ra set 1 và set 2 vừa tạo.\n",
    "- In ra chiều dài (số phần tử) của set 1 và set 2.\n",
    "- Tính tổng các phần tử trong set 1 và set 2.\n",
    "- Tìm giá trị lớn nhất và nhỏ nhất trong set 1 và set 2.\n",
    "- Sắp xếp giá trị giảm dần trong 2 set.\n",
    "- Thực hiện set union của set 1 và set 2, in ra kết quả.\n",
    "- Thực hiện set intersection của set 1 và set 2, in ra kết quả.\n",
    "- Thực hiện set difference của set 1 và set 2, in ra kết quả.\n",
    "- Thực hiện set symmetric difference của set 1 và set 2, in ra kết quả."
   ]
  },
  {
   "cell_type": "code",
   "execution_count": null,
   "metadata": {},
   "outputs": [],
   "source": [
    "# Tạo hai tập rỗng\n",
    "set_1 = set()\n",
    "set_2 = set()\n",
    "\n",
    "def nhap_set(ten_set, set_obj):\n",
    "    \"\"\"\n",
    "    Hàm để nhập các giá trị vào một set.\n",
    "    ten_set: tên của set (dùng để hiển thị).\n",
    "    set_obj: đối tượng set sẽ được thêm các phần tử vào.\n",
    "    \"\"\"\n",
    "    i = 1\n",
    "    while i:\n",
    "        # Điền code còn thiếu vào đây\n",
    "            # Nhập giá trị vào set\n",
    "            # Thêm giá trị vào set\n",
    "        # Điền code còn thiếu vào đây\n",
    "            # Hỏi người dùng tiếp tục không\n",
    "\n",
    "def hien_thi_thong_tin_set(ten_set, set_obj):\n",
    "    \"\"\"\n",
    "    Hàm hiển thị thông tin của một set, bao gồm các phần tử, độ dài, tổng, max, min và sắp xếp.\n",
    "    ten_set: tên của set để hiển thị.\n",
    "    set_obj: đối tượng set cần hiển thị thông tin.\n",
    "    \"\"\"\n",
    "   \n",
    "    print('-' * 20, ten_set, '-' * 20)\n",
    "    # Điền code còn thiếu vào đây  # Hiển thị các phần tử trong set\n",
    "\n",
    " \n",
    "    # Điền code còn thiếu vào đây  # Hiển thị chiều dài của set\n",
    "    # Điền code còn thiếu vào đây  # Hiển thị tổng các phần tử trong set\n",
    "    # Điền code còn thiếu vào đây  # Hiển thị giá trị lớn nhất và nhỏ nhất\n",
    "    # Điền code còn thiếu vào đây  # Hiển thị set theo thứ tự giảm dần\n",
    "\n",
    "# Nhập giá trị cho set 1 và set 2\n",
    "# Điền code còn thiếu vào đây\n",
    "\n",
    "# Hiển thị thông tin của set 1 và set 2\n",
    "# Điền code còn thiếu vào đây\n",
    "\n",
    "# Thực hiện các phép toán trên set\n",
    "print('-' * 50)\n",
    "# Điền code còn thiếu vào đây  # Hợp của set 1 và set 2\n",
    "# Điền code còn thiếu vào đây  # Giao của set 1 và set 2\n",
    "# Điền code còn thiếu vào đây  # Hiệu của set 1 và set 2\n",
    "# Điền code còn thiếu vào đây  # Hiệu đối xứng của set 1 và set 2\n"
   ]
  },
  {
   "cell_type": "markdown",
   "metadata": {
    "id": "c1g3oFyuuiTW"
   },
   "source": [
    "**7.8 Sử dụng map(), filter(), reduce()**\n",
    "\n",
    "Viết chương trình sử dụng các phương thức map(), filter(), reduce() để thực hiện các yêu cầu sau:\n",
    "- Cho 2 danh sách điểm HK1 và HK2:\n",
    "```\n",
    "list_diem_hk1 = [8.5, 6.7, 9.0, 8.3, 5.0, 4.0, 6.0, 3.7, 9.5, 5.8]\n",
    "list_diem_hk2 = [7.0, 7.0, 9.2, 6.1, 4.8, 6.4, 8.5, 5.1, 5.6, 7.0]\n",
    "```\n",
    "- Tính và in ra danh sách điểm trung bình.\n",
    "- Xử lý và in ra kết quả ‘Đậu’ hoặc ‘Rớt’ tương ứng với điểm trung bình đã tính.\n",
    "- In ra danh sách các điểm trên trung bình và dưới trung bình.\n",
    "- Chuyển các giá trị trong danh sách điểm trung bình thành số nguyên, tìm số nguyên tố trong danh sách số nguyên đó.\n",
    "- Tính tổng các giá trị số nguyên tố.\n"
   ]
  },
  {
   "cell_type": "code",
   "execution_count": null,
   "metadata": {
    "id": "rmkhhEoquiTW"
   },
   "outputs": [],
   "source": [
    "from functools import reduce\n",
    "from operator import add\n",
    "\n",
    "\n",
    "list_diem_hk1 = [8.5, 6.7, 9.0, 8.3, 5.0, 4.0, 6.0, 3.7, 9.5, 5.8]\n",
    "list_diem_hk2 = [7.0, 7.0, 9.2, 6.1, 4.8, 6.4, 8.5, 5.1, 5.6, 7.0]\n",
    "\n",
    "\n",
    "# In danh sách điểm trung bình dựa trên danh sách điểm hk1 và hk2\n",
    "# Điền code còn thiếu vào đây\n",
    "\n",
    "# In ra kết quả 'Đậu'/'Rớt' dựa theo danh sách điểm trung bình\n",
    "# Điền code còn thiếu vào đây\n",
    "\n",
    "# In ra danh sách điểm trung bình >= 5 và điểm trung bình < 5\n",
    "# Điền code còn thiếu vào đây\n",
    "\n",
    "list_diem_duoi_tb = list(filter(lambda dtb: dtb < 5, list_diem_tb))\n",
    "print('Danh sách điểm dưới TB:', list_diem_duoi_tb)\n",
    "\n",
    "# Chuyển danh sách điểm trung bình thành các phần tử có kiểu số nguyên, tìm số nguyên tố trong danh sách số nguyên đó\n",
    "# Điền code còn thiếu vào đây\n",
    "\n",
    "## ===============================================\n",
    "\n",
    "# Danh sách số nguyên tố\n",
    "def la_so_nguyen_to(so):\n",
    "    # Điền code còn thiếu vào đây\n",
    "\n",
    "\n",
    "# Điền code còn thiếu vào đây\n",
    "print('Danh sách số nguyên tố:', list_so_nguyen_to)\n",
    "\n",
    "# Tính tổng các giá trị của danh sách số nguyên tố\n",
    "# Điền code còn thiếu vào đây\n",
    "print('Tổng các số nguyên tố:', tong)"
   ]
  },
  {
   "cell_type": "markdown",
   "metadata": {
    "id": "aUEgVOYfulwY"
   },
   "source": [
    "**7.9 Phân tích Phản hồi khách hàng**"
   ]
  },
  {
   "cell_type": "code",
   "execution_count": 1,
   "metadata": {
    "colab": {
     "base_uri": "https://localhost:8080/"
    },
    "executionInfo": {
     "elapsed": 11922,
     "status": "ok",
     "timestamp": 1730676852047,
     "user": {
      "displayName": "Van Nguyen Tran Thao",
      "userId": "15365487970074691869"
     },
     "user_tz": -420
    },
    "id": "FksfdV4oNOgC",
    "outputId": "6b5b0dde-c2c6-4073-c86c-ba8f10bd70bc"
   },
   "outputs": [
    {
     "name": "stdout",
     "output_type": "stream",
     "text": [
      "Collecting groq\n",
      "  Downloading groq-0.11.0-py3-none-any.whl.metadata (13 kB)\n",
      "Requirement already satisfied: anyio<5,>=3.5.0 in /usr/local/lib/python3.10/dist-packages (from groq) (3.7.1)\n",
      "Requirement already satisfied: distro<2,>=1.7.0 in /usr/local/lib/python3.10/dist-packages (from groq) (1.9.0)\n",
      "Requirement already satisfied: httpx<1,>=0.23.0 in /usr/local/lib/python3.10/dist-packages (from groq) (0.27.2)\n",
      "Requirement already satisfied: pydantic<3,>=1.9.0 in /usr/local/lib/python3.10/dist-packages (from groq) (2.9.2)\n",
      "Requirement already satisfied: sniffio in /usr/local/lib/python3.10/dist-packages (from groq) (1.3.1)\n",
      "Requirement already satisfied: typing-extensions<5,>=4.7 in /usr/local/lib/python3.10/dist-packages (from groq) (4.12.2)\n",
      "Requirement already satisfied: idna>=2.8 in /usr/local/lib/python3.10/dist-packages (from anyio<5,>=3.5.0->groq) (3.10)\n",
      "Requirement already satisfied: exceptiongroup in /usr/local/lib/python3.10/dist-packages (from anyio<5,>=3.5.0->groq) (1.2.2)\n",
      "Requirement already satisfied: certifi in /usr/local/lib/python3.10/dist-packages (from httpx<1,>=0.23.0->groq) (2024.8.30)\n",
      "Requirement already satisfied: httpcore==1.* in /usr/local/lib/python3.10/dist-packages (from httpx<1,>=0.23.0->groq) (1.0.6)\n",
      "Requirement already satisfied: h11<0.15,>=0.13 in /usr/local/lib/python3.10/dist-packages (from httpcore==1.*->httpx<1,>=0.23.0->groq) (0.14.0)\n",
      "Requirement already satisfied: annotated-types>=0.6.0 in /usr/local/lib/python3.10/dist-packages (from pydantic<3,>=1.9.0->groq) (0.7.0)\n",
      "Requirement already satisfied: pydantic-core==2.23.4 in /usr/local/lib/python3.10/dist-packages (from pydantic<3,>=1.9.0->groq) (2.23.4)\n",
      "Downloading groq-0.11.0-py3-none-any.whl (106 kB)\n",
      "\u001b[2K   \u001b[90m━━━━━━━━━━━━━━━━━━━━━━━━━━━━━━━━━━━━━━━━\u001b[0m \u001b[32m106.5/106.5 kB\u001b[0m \u001b[31m4.7 MB/s\u001b[0m eta \u001b[36m0:00:00\u001b[0m\n",
      "\u001b[?25hInstalling collected packages: groq\n",
      "Successfully installed groq-0.11.0\n"
     ]
    }
   ],
   "source": [
    "pip install groq"
   ]
  },
  {
   "cell_type": "code",
   "execution_count": null,
   "metadata": {
    "executionInfo": {
     "elapsed": 2043,
     "status": "ok",
     "timestamp": 1730676854063,
     "user": {
      "displayName": "Van Nguyen Tran Thao",
      "userId": "15365487970074691869"
     },
     "user_tz": -420
    },
    "id": "9ym4GL5dupTo"
   },
   "outputs": [],
   "source": [
    "from groq import Groq\n",
    "def get_response_groq(prompt):\n",
    "    \"\"\"Hàm này nhận một prompt và trả về phản hồi từ mô hình của Groq.\"\"\"\n",
    "    # Khởi tạo client với API Key\n",
    "    client = Groq(api_key=\"{Your API key}\")  # Thay thế bằng API Key của bạn\n",
    "\n",
    "    # Gửi yêu cầu tới Groq API\n",
    "    response = client.chat.completions.create(\n",
    "        model=\"llama3-70b-8192\",  # Mô hình sử dụng (thay thế nếu cần)\n",
    "        messages=[\n",
    "            {\"role\": \"user\", \"content\": prompt}  # Gửi prompt người dùng\n",
    "        ]\n",
    "    )\n",
    "    # Trả về nội dung phản hồi từ API\n",
    "    return response.choices[0].message.content"
   ]
  },
  {
   "cell_type": "code",
   "execution_count": null,
   "metadata": {
    "executionInfo": {
     "elapsed": 11,
     "status": "ok",
     "timestamp": 1730676854064,
     "user": {
      "displayName": "Van Nguyen Tran Thao",
      "userId": "15365487970074691869"
     },
     "user_tz": -420
    },
    "id": "ZepEYULGuwuv"
   },
   "outputs": [],
   "source": [
    "phan_hoi_khach_hang = [\n",
    "    \"Sản phẩm rất tuyệt vời, tôi rất hài lòng!\",\n",
    "    \"Giao hàng chậm hơn dự kiến và chất lượng sản phẩm không như mong đợi.\",\n",
    "    \"Dịch vụ hỗ trợ tốt, tuy nhiên sản phẩm không đạt yêu cầu.\",\n",
    "    \"Tôi sẽ giới thiệu sản phẩm này cho bạn bè của mình!\",\n",
    "    \"Giá cả hợp lý nhưng chất lượng chưa thực sự nổi bật.\"\n",
    "]"
   ]
  },
  {
   "cell_type": "code",
   "execution_count": 7,
   "metadata": {
    "colab": {
     "base_uri": "https://localhost:8080/"
    },
    "executionInfo": {
     "elapsed": 1592,
     "status": "ok",
     "timestamp": 1730677223235,
     "user": {
      "displayName": "Van Nguyen Tran Thao",
      "userId": "15365487970074691869"
     },
     "user_tz": -420
    },
    "id": "B8wGFCYKuytJ",
    "outputId": "9e4b05b5-9f25-4f08-8d3c-1bbd4d956bbf"
   },
   "outputs": [
    {
     "name": "stdout",
     "output_type": "stream",
     "text": [
      "Phản hồi: 'Sản phẩm rất tuyệt vời, tôi rất hài lòng!' -> Cảm xúc: * Cảm xúc: Tích cực\n",
      "* Điểm cần cải thiện: Không có\n",
      "Phản hồi: 'Giao hàng chậm hơn dự kiến và chất lượng sản phẩm không như mong đợi.' -> Cảm xúc: * Cảm xúc: Tiệu cực\n",
      "* Điểm cần cải thiện: Thời gian giao hàng và chất lượng sản phẩm.\n",
      "Phản hồi: 'Dịch vụ hỗ trợ tốt, tuy nhiên sản phẩm không đạt yêu cầu.' -> Cảm xúc: * Cảm xúc: Tiêu cực\n",
      "* Điểm cần cải thiện: Chất lượng sản phẩm\n",
      "Phản hồi: 'Tôi sẽ giới thiệu sản phẩm này cho bạn bè của mình!' -> Cảm xúc: Cảm xúc: Tích cực\n",
      "Điểm cần cải thiện: Không có\n",
      "Phản hồi: 'Giá cả hợp lý nhưng chất lượng chưa thực sự nổi bật.' -> Cảm xúc: * Cảm xúc: Tiêu cực\n",
      "* Điểm cần cải thiện: Chất lượng sản phẩm.\n"
     ]
    }
   ],
   "source": [
    "# Hàm gọi API để phân tích cảm xúc của từng phản hồi\n",
    "def phan_tich_cam_xuc_phan_hoi(phan_hoi):\n",
    "    prompt = (\n",
    "    \"Phân tích phản hồi khách hàng sau. Chỉ trả lời cảm xúc (tích cực, tiêu cực) và điểm cần cải thiện (nếu có), bỏ qua các giải thích chi tiết. \"\n",
    "    \"Trả lời ngắn gọn bằng tiếng Việt. Phản hồi:\\n\"\n",
    "    f\"'{phan_hoi}'\"\n",
    "    )\n",
    "    cam_xuc = get_response_groq(prompt)  # Gọi hàm get_response_groq với prompt\n",
    "    return cam_xuc\n",
    "\n",
    "# Sử dụng vòng lặp để phân tích từng phản hồi trong danh sách\n",
    "for phan_hoi in phan_hoi_khach_hang:\n",
    "    cam_xuc = phan_tich_cam_xuc_phan_hoi(phan_hoi)\n",
    "    print(f\"Phản hồi: '{phan_hoi}' -> Cảm xúc: {cam_xuc}\")"
   ]
  },
  {
   "cell_type": "code",
   "execution_count": null,
   "metadata": {
    "id": "FMOy4vL22bSJ"
   },
   "outputs": [],
   "source": []
  }
 ],
 "metadata": {
  "colab": {
   "provenance": []
  },
  "kernelspec": {
   "display_name": "Python 3",
   "language": "python",
   "name": "python3"
  },
  "language_info": {
   "name": "python",
   "version": "3.9.13"
  }
 },
 "nbformat": 4,
 "nbformat_minor": 0
}
