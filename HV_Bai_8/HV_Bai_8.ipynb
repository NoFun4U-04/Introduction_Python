{
 "cells": [
  {
   "cell_type": "markdown",
   "metadata": {
    "id": "SO0O-6UzvJDk"
   },
   "source": [
    "**8.1 Đọc tập tin text và thống kê**\n",
    "\n",
    "Viết chương trình cho người dùng nhập vào đường dẫn đến tập tin text. Thực hiện đọc nội dung và thống kê số lượng dòng, từ và ký tự trong tập tin."
   ]
  },
  {
   "cell_type": "code",
   "execution_count": null,
   "metadata": {
    "id": "8I5x6FA3vJDm",
    "outputId": "a7dcb3ff-1d1f-4806-9768-b188a063cc25"
   },
   "outputs": [
    {
     "name": "stdout",
     "output_type": "stream",
     "text": [
      "----- NỘI DUNG -----\n",
      "Humpty Dumpty sat on a wall,\n",
      "Humpty Dumpty had a great fall.\n",
      "All the king's horses and all the king's men\n",
      "Couldn't put Humpty together again.\n",
      "----- THỐNG KÊ -----\n",
      "- Số dòng: 4\n",
      "- Số từ: 26\n",
      "- Số ký tự: 141\n"
     ]
    }
   ],
   "source": [
    "def doc_tap_tin(duong_dan):\n",
    "    \"\"\"\n",
    "    Hàm đọc nội dung từ một tập tin văn bản.\n",
    "    Tham số:\n",
    "        duong_dan: đường dẫn đến tập tin cần đọc.\n",
    "    Trả về:\n",
    "        Nội dung của tập tin dưới dạng chuỗi.\n",
    "    \"\"\"\n",
    "    # Mở tập tin trong chế độ đọc ('r') và đọc toàn bộ nội dung\n",
    "    with open(duong_dan, 'r') as f:\n",
    "        return f.read()  # Trả về nội dung của tập tin\n",
    "\n",
    "\n",
    "def thong_ke(noi_dung):\n",
    "    \"\"\"\n",
    "    Hàm thống kê số dòng, số từ và số ký tự trong nội dung văn bản.\n",
    "    Tham số:\n",
    "        noi_dung: chuỗi chứa toàn bộ nội dung văn bản cần thống kê.\n",
    "    Trả về:\n",
    "        Bộ ba giá trị (so_dong, so_tu, so_ky_tu) gồm:\n",
    "            - so_dong: số dòng trong văn bản\n",
    "            - so_tu: số từ trong văn bản\n",
    "            - so_ky_tu: số ký tự trong văn bản\n",
    "    \"\"\"\n",
    "    # Tách nội dung thành các dòng và đếm số dòng\n",
    "    # Điền code còn thiếu vào đây\n",
    "\n",
    "    # Tách nội dung thành các từ bằng cách thay thế dấu câu và đếm số từ\n",
    "    # Điền code còn thiếu vào đây\n",
    "\n",
    "    # Tính số ký tự bằng cách đếm toàn bộ ký tự trong nội dung\n",
    "    # Điền code còn thiếu vào đây\n",
    "\n",
    "    return so_dong, so_tu, so_ky_tu  # Trả về số dòng, số từ và số ký tự\n",
    "\n",
    "\n",
    "# Nhập đường dẫn đến tập tin cần đọc\n",
    "# duong_dan = input('Nhập tên tập tin: ')\n",
    "duong_dan = 'du_lieu/HumptyDumpty.txt'  # Đường dẫn mặc định cho tập tin mẫu\n",
    "\n",
    "# Đọc nội dung của tập tin\n",
    "print('-' * 5, 'NỘI DUNG', '-' * 5)\n",
    "# Điền code còn thiếu vào đây  # In nội dung của tập tin\n",
    "\n",
    "# Thống kê và hiển thị kết quả\n",
    "print('-' * 5, 'THỐNG KÊ', '-' * 5)\n",
    "so_dong, so_tu, so_ky_tu = thong_ke(noi_dung)\n",
    "print('- Số dòng:', so_dong)  # Hiển thị số dòng\n",
    "print('- Số từ:', so_tu)  # Hiển thị số từ\n",
    "print('- Số ký tự:', so_ky_tu)  # Hiển thị số ký tự\n"
   ]
  },
  {
   "cell_type": "markdown",
   "metadata": {
    "id": "017vDwPSvJDo"
   },
   "source": [
    "**8.2 Ghi tập tin text (1 dòng)**\n",
    "\n",
    "Viết chương trình cho người dùng nhập vào nội dung. Thực hiện lưu thông tin vào đường dẫn chỉ định."
   ]
  },
  {
   "cell_type": "code",
   "execution_count": null,
   "metadata": {
    "id": "NPWiQu4KvJDo",
    "outputId": "5c411ad5-7a29-4783-aaaf-0a3087abd4d4"
   },
   "outputs": [
    {
     "name": "stdout",
     "output_type": "stream",
     "text": [
      "Đã lưu nội dung tại \"du_lieu/Bai_8_2.txt\"\n"
     ]
    }
   ],
   "source": [
    "import time\n",
    "\n",
    "def doc_tap_tin(duong_dan):\n",
    "    \"\"\"\n",
    "    Hàm đọc nội dung từ một tập tin văn bản.\n",
    "    Tham số:\n",
    "        duong_dan: đường dẫn đến tập tin cần đọc.\n",
    "    Trả về:\n",
    "        Nội dung của tập tin dưới dạng chuỗi nếu đọc thành công,\n",
    "        hoặc None nếu tập tin không tồn tại.\n",
    "    \"\"\"\n",
    "    try:\n",
    "        # Mở tập tin trong chế độ đọc ('r') với mã hóa UTF-8\n",
    "        # Điền code còn thiếu vào đây  # Trả về nội dung của tập tin\n",
    "    except FileNotFoundError:\n",
    "        # Thông báo lỗi nếu tập tin không tồn tại\n",
    "        # Điền code còn thiếu vào đây\n",
    "\n",
    "def ghi_de_1_dong(duong_dan, noi_dung):\n",
    "    \"\"\"\n",
    "    Hàm ghi một dòng văn bản vào tập tin, kèm theo thời gian hiện tại.\n",
    "    Tham số:\n",
    "        duong_dan: đường dẫn đến tập tin cần ghi.\n",
    "        noi_dung: nội dung cần ghi vào tập tin.\n",
    "    Trả về:\n",
    "        True nếu ghi thành công, False nếu có lỗi xảy ra.\n",
    "    \"\"\"\n",
    "    try:\n",
    "        # Mở tập tin trong chế độ ghi ('w') với mã hóa UTF-8\n",
    "        # Điền code còn thiếu vào đây\n",
    "            # Ghi nội dung và thời gian hiện tại vào tập tin\n",
    "            # Điền code còn thiếu vào đây\n",
    "        return True  # Trả về True nếu lưu thành công\n",
    "    except Exception as e:\n",
    "        # Thông báo lỗi nếu có lỗi xảy ra khi ghi\n",
    "        # Điền code còn thiếu vào đây\n",
    "\n",
    "# Đường dẫn của tập tin cần ghi\n",
    "duong_dan = 'du_lieu/Bai_8_2.txt'\n",
    "\n",
    "# Nhập nội dung từ người dùng để ghi vào tập tin\n",
    "noi_dung = input('Nhập nội dung: ')\n",
    "\n",
    "# Gọi hàm ghi và lưu kết quả\n",
    "ket_qua = ghi_de_1_dong(duong_dan, noi_dung)\n",
    "\n",
    "# Kiểm tra kết quả và in thông báo cho người dùng\n",
    "if ket_qua:\n",
    "    # Điền code còn thiếu vào đây  # Chỉ in ra khi lưu thành công\n",
    "else:\n",
    "    # Điền code còn thiếu vào đây  # Thông báo nếu lưu thất bại"
   ]
  },
  {
   "cell_type": "markdown",
   "metadata": {
    "id": "_-uymIdcvJDo"
   },
   "source": [
    "**8.3 Ghi tập tin text (nhiều dòng)**\n",
    "\n",
    "Viết chương trình cho phép người dùng nhập thông tin về danh sách khách hàng (bao gồm mã khách hàng, tên khách hàng, ngày giao dịch gần nhất, và số tiền giao dịch). Chương trình cho phép nhập nhiều khách hàng đến khi người dùng không muốn nhập thêm. Sau đó, thực hiện lưu danh sách khách hàng đã nhập vào tập tin text."
   ]
  },
  {
   "cell_type": "code",
   "execution_count": null,
   "metadata": {
    "id": "RVaSfCADvJDp",
    "outputId": "1a91d149-d88b-4704-e07b-26159b108400"
   },
   "outputs": [
    {
     "name": "stdout",
     "output_type": "stream",
     "text": [
      "\n",
      "Đã lưu thông tin tại du_lieu/danh_sach_khach_hang.txt\n"
     ]
    }
   ],
   "source": [
    "def ghi_nhieu_dong(duong_dan, danh_sach_dong):\n",
    "    # Mở file và ghi toàn bộ danh sách dòng vào file\n",
    "    # Điền code còn thiếu vào đây\n",
    "\n",
    "# Điền code còn thiếu vào đây\n",
    "\n",
    "while dieu_kien:\n",
    "    # Nhập thông tin khách hàng\n",
    "    # Điền code còn thiếu vào đây\n",
    "\n",
    "    # Định dạng và lấp đầy bằng khoảng trắng nếu cần, mỗi trường dữ liệu có độ dài riêng\n",
    "    # Điền code còn thiếu vào đây\n",
    "\n",
    "    # Thêm thông tin khách hàng vào danh sách\n",
    "    danh_sach_khach_hang.append(khach_hang)\n",
    "\n",
    "    # Hỏi người dùng xem có muốn tiếp tục nhập không\n",
    "    dieu_kien = True if int(input('\\nTiếp tục?\\t1. Có\\t0. Không\\t')) == 1 else False\n",
    "\n",
    "# Sau khi hoàn tất vòng lặp, ghi thông tin vào file mà không in thêm bất kỳ nội dung nào vào file\n",
    "# Điền code còn thiếu vào đây"
   ]
  },
  {
   "cell_type": "markdown",
   "metadata": {
    "id": "Q8U7KKkJvJDp"
   },
   "source": [
    "**8.4 Tính trung bình doanh thu sản phẩm của quý 1**\n",
    "\n",
    "Viết chương trình tính trung bình doanh thu sản phẩm đọc từ file csv."
   ]
  },
  {
   "cell_type": "code",
   "execution_count": null,
   "metadata": {
    "id": "BVuzdT_tvJDp",
    "outputId": "69433f8e-9b18-4426-db08-0094bd63d981"
   },
   "outputs": [
    {
     "name": "stdout",
     "output_type": "stream",
     "text": [
      "Kết quả đã được lưu tại du_lieu/san_pham_doanh_thu_trung_binh.csv\n"
     ]
    }
   ],
   "source": [
    "import csv\n",
    "\n",
    "def tinh_doanh_thu_trung_binh(duong_dan_vao, duong_dan_ra):\n",
    "    # Đọc dữ liệu từ file CSV đầu vào\n",
    "    # Điền code còn thiếu vào đây\n",
    "\n",
    "        # Thêm cột \"Doanh thu trung bình\" vào tiêu đề\n",
    "        header.append(\"Doanh thu trung bình\")\n",
    "        du_lieu.append(header)\n",
    "\n",
    "        # Tính toán doanh thu trung bình cho từng dòng dữ liệu\n",
    "        for row in reader:\n",
    "            ten_san_pham = row[0]\n",
    "            # Điền code còn thiếu vào đây\n",
    "\n",
    "            # Tính trung bình cộng của doanh thu 3 tháng, lấy phần nguyên\n",
    "            # Điền code còn thiếu vào đây\n",
    "\n",
    "            # Thêm cột doanh thu trung bình vào dòng\n",
    "            # Điền code còn thiếu vào đây\n",
    "\n",
    "    # Ghi dữ liệu đã tính vào file CSV mới\n",
    "    with open(duong_dan_ra, mode='w', encoding='utf-8', newline='') as file:\n",
    "        # Điền code còn thiếu vào đây\n",
    "        \n",
    "# Đường dẫn tới file CSV đầu vào và file CSV đầu ra\n",
    "duong_dan_vao = 'du_lieu/san_pham.csv'\n",
    "duong_dan_ra = 'du_lieu/san_pham_doanh_thu_trung_binh.csv'\n",
    "\n",
    "# Gọi hàm để tính doanh thu trung bình và ghi kết quả vào file CSV mới\n",
    "tinh_doanh_thu_trung_binh(duong_dan_vao, duong_dan_ra)\n",
    "print(f\"Kết quả đã được lưu tại {duong_dan_ra}\")\n"
   ]
  },
  {
   "cell_type": "markdown",
   "metadata": {
    "id": "Ax_uzlwjvJDq"
   },
   "source": [
    "**8.5 Đăng nhập**\n",
    "\n",
    "Viết chương trình cho phép người dùng thực hiện đăng nhập. Xuất ra màn hình trạng thái đăng nhập (Thành công/Thất bại)."
   ]
  },
  {
   "cell_type": "code",
   "execution_count": null,
   "metadata": {
    "id": "VbkxzHoAvJDq"
   },
   "outputs": [],
   "source": [
    "from datetime import datetime\n",
    "import csv\n",
    "\n",
    "def txt_ghi_dong(duong_dan, noi_dung):\n",
    "    \"\"\"\n",
    "    Hàm ghi một dòng vào tập tin văn bản.\n",
    "    Tham số:\n",
    "        duong_dan: đường dẫn đến tập tin cần ghi.\n",
    "        noi_dung: nội dung cần ghi vào tập tin.\n",
    "    \"\"\"\n",
    "    # Mở tập tin ở chế độ append ('a') để thêm nội dung mới vào cuối tập tin\n",
    "    # Điền code còn thiếu vào đây  # Ghi nội dung vào tập tin\n",
    "\n",
    "def csv_doc_tap_tin(duong_dan, bo_dong_dau=False):\n",
    "    \"\"\"\n",
    "    Hàm đọc nội dung từ một tập tin CSV và lưu dưới dạng danh sách các dòng.\n",
    "    Tham số:\n",
    "        duong_dan: đường dẫn đến tập tin CSV cần đọc.\n",
    "        bo_dong_dau: nếu True, bỏ qua dòng đầu tiên (thường là tiêu đề).\n",
    "    Trả về:\n",
    "        Một danh sách chứa các dòng dữ liệu từ tập tin CSV.\n",
    "    \"\"\"\n",
    "    du_lieu = []\n",
    "    # Mở tập tin CSV ở chế độ đọc ('r') với mã hóa UTF-8\n",
    "    # Điền code còn thiếu vào đây\n",
    "\n",
    "# Nhập thông tin đăng nhập từ người dùng\n",
    "ten_dang_nhap = input('Tên đăng nhập: ')\n",
    "mat_khau = input('Mật khẩu: ')\n",
    "\n",
    "# Đường dẫn đến các tập tin dữ liệu\n",
    "duong_dan_nhan_vien = 'du_lieu/nhan_vien.csv'  # Tập tin CSV lưu thông tin nhân viên\n",
    "duong_dan_nhat_ky = 'du_lieu/nhat_ky_dang_nhap.txt'  # Tập tin lưu nhật ký đăng nhập\n",
    "\n",
    "# Đọc danh sách nhân viên từ tập tin CSV, bỏ qua dòng đầu nếu có tiêu đề\n",
    "danh_sach_nhan_vien = csv_doc_tap_tin(duong_dan_nhan_vien, True)\n",
    "\n",
    "# Kiểm tra thông tin đăng nhập\n",
    "for nhan_vien in danh_sach_nhan_vien:\n",
    "    # So sánh tên đăng nhập và mật khẩu từ input với dữ liệu trong CSV\n",
    "    if ten_dang_nhap == nhan_vien[1] and mat_khau == nhan_vien[2]:\n",
    "        # Ghi nhật ký đăng nhập nếu thông tin đúng\n",
    "        # Điền code còn thiếu vào đây\n",
    "else:\n",
    "    # Thông báo đăng nhập thất bại nếu thông tin không đúng\n",
    "    print('Đăng nhập thất bại')\n"
   ]
  },
  {
   "cell_type": "markdown",
   "metadata": {
    "id": "LaqhZqUtvJDr"
   },
   "source": [
    "**8.6 Tra cứu mã Zipcode**\n",
    "\n",
    "Viết chương trình cho người dùng tra cứu Zipcode từ:\n",
    "- Tên Tỉnh/Thành phố\n",
    "- Mã Zipcode\n"
   ]
  },
  {
   "cell_type": "code",
   "execution_count": null,
   "metadata": {
    "id": "oWOKhVBLvJDr"
   },
   "outputs": [],
   "source": [
    "import csv\n",
    "\n",
    "def doc_tap_tin_csv(duong_dan, bo_dong_dau=False):\n",
    "    \"\"\"\n",
    "    Hàm đọc nội dung từ một tập tin CSV và trả về dưới dạng danh sách các dòng.\n",
    "    Tham số:\n",
    "        duong_dan: đường dẫn đến tập tin CSV cần đọc.\n",
    "        bo_dong_dau: nếu True, bỏ qua dòng đầu tiên (thường là tiêu đề).\n",
    "    Trả về:\n",
    "        Một danh sách chứa các dòng dữ liệu từ tập tin CSV.\n",
    "    \"\"\"\n",
    "    du_lieu = []\n",
    "    # Mở tập tin CSV ở chế độ đọc ('r') với mã hóa UTF-8\n",
    "    # Điền code còn thiếu vào đây\n",
    "\n",
    "# Đường dẫn đến tập tin chứa dữ liệu zipcode\n",
    "duong_dan_zipcode = 'du_lieu/zipcode.csv'\n",
    "\n",
    "# Biến điều kiện để duy trì vòng lặp\n",
    "dieu_kien = True\n",
    "while dieu_kien:\n",
    "    # Chọn chức năng tra cứu theo tên Tỉnh/Thành phố hoặc mã ZipCode\n",
    "    chuc_nang = int(input('\\nBạn muốn tra cứu theo:\\n1. Tên Tỉnh/Thành phố\\n2. ZipCode\\nMời bạn chọn: '))\n",
    "    \n",
    "    # Tra cứu theo tên Tỉnh/Thành phố\n",
    "    # Điền code còn thiếu vào đây\n",
    "\n",
    "    # Tra cứu theo mã ZipCode\n",
    "    elif chuc_nang == 2:\n",
    "        # Điền code còn thiếu vào đây  # Đọc danh sách từ tập tin CSV\n",
    "        # Tìm kiếm các bản ghi chứa mã ZipCode\n",
    "        # Điền code còn thiếu vào đây\n",
    "    else:\n",
    "        print('\\nChỉ được chọn 1 hoặc 2')\n",
    "        continue  # Quay lại đầu vòng lặp nếu nhập sai lựa chọn\n",
    "\n",
    "    # In kết quả tìm kiếm nếu có\n",
    "    if ket_qua:\n",
    "        # Điền code còn thiếu vào đây\n",
    "        print(f'Không tìm thấy kết quả với {\"tên Tỉnh/Thành phố\" if chuc_nang == 1 else \"mã zipcode\"}')\n",
    "\n",
    "    # Hỏi người dùng có muốn tiếp tục tra cứu không\n",
    "    # Điền code còn thiếu vào đây  # Thoát vòng lặp nếu người dùng chọn không tiếp tục\n"
   ]
  },
  {
   "cell_type": "markdown",
   "metadata": {
    "id": "zRa_cH1wvJDs"
   },
   "source": [
    "### Chatbot exercise"
   ]
  },
  {
   "cell_type": "markdown",
   "metadata": {
    "id": "RIwYOWcPvJDs"
   },
   "source": [
    "## Yêu cầu bài tập\n",
    "\n",
    "**8.7 Viết hàm `tong_hop_nhan_xet_tu_thu_muc` để:**\n",
    "\n",
    "1. Đọc tất cả nội dung từ các tệp `.txt` trong một thư mục.\n",
    "2. Gửi nội dung đó tới API Groq để tóm tắt ngắn gọn các xu hướng chính trong phản hồi của khách hàng và đề xuất 1-2 cải tiến quan trọng nhất.\n",
    "3. Trả về phản hồi ngắn gọn từ API.\n"
   ]
  },
  {
   "cell_type": "code",
   "execution_count": 2,
   "metadata": {
    "colab": {
     "base_uri": "https://localhost:8080/"
    },
    "executionInfo": {
     "elapsed": 6036,
     "status": "ok",
     "timestamp": 1730677661434,
     "user": {
      "displayName": "Van Nguyen Tran Thao",
      "userId": "15365487970074691869"
     },
     "user_tz": -420
    },
    "id": "sl9a1Cc-bRo6",
    "outputId": "3b08e2fa-a6d7-4101-8120-6623fde12cb4"
   },
   "outputs": [
    {
     "name": "stdout",
     "output_type": "stream",
     "text": [
      "Collecting groq\n",
      "  Downloading groq-0.11.0-py3-none-any.whl.metadata (13 kB)\n",
      "Requirement already satisfied: anyio<5,>=3.5.0 in /usr/local/lib/python3.10/dist-packages (from groq) (3.7.1)\n",
      "Requirement already satisfied: distro<2,>=1.7.0 in /usr/local/lib/python3.10/dist-packages (from groq) (1.9.0)\n",
      "Requirement already satisfied: httpx<1,>=0.23.0 in /usr/local/lib/python3.10/dist-packages (from groq) (0.27.2)\n",
      "Requirement already satisfied: pydantic<3,>=1.9.0 in /usr/local/lib/python3.10/dist-packages (from groq) (2.9.2)\n",
      "Requirement already satisfied: sniffio in /usr/local/lib/python3.10/dist-packages (from groq) (1.3.1)\n",
      "Requirement already satisfied: typing-extensions<5,>=4.7 in /usr/local/lib/python3.10/dist-packages (from groq) (4.12.2)\n",
      "Requirement already satisfied: idna>=2.8 in /usr/local/lib/python3.10/dist-packages (from anyio<5,>=3.5.0->groq) (3.10)\n",
      "Requirement already satisfied: exceptiongroup in /usr/local/lib/python3.10/dist-packages (from anyio<5,>=3.5.0->groq) (1.2.2)\n",
      "Requirement already satisfied: certifi in /usr/local/lib/python3.10/dist-packages (from httpx<1,>=0.23.0->groq) (2024.8.30)\n",
      "Requirement already satisfied: httpcore==1.* in /usr/local/lib/python3.10/dist-packages (from httpx<1,>=0.23.0->groq) (1.0.6)\n",
      "Requirement already satisfied: h11<0.15,>=0.13 in /usr/local/lib/python3.10/dist-packages (from httpcore==1.*->httpx<1,>=0.23.0->groq) (0.14.0)\n",
      "Requirement already satisfied: annotated-types>=0.6.0 in /usr/local/lib/python3.10/dist-packages (from pydantic<3,>=1.9.0->groq) (0.7.0)\n",
      "Requirement already satisfied: pydantic-core==2.23.4 in /usr/local/lib/python3.10/dist-packages (from pydantic<3,>=1.9.0->groq) (2.23.4)\n",
      "Downloading groq-0.11.0-py3-none-any.whl (106 kB)\n",
      "\u001b[2K   \u001b[90m━━━━━━━━━━━━━━━━━━━━━━━━━━━━━━━━━━━━━━━━\u001b[0m \u001b[32m106.5/106.5 kB\u001b[0m \u001b[31m2.2 MB/s\u001b[0m eta \u001b[36m0:00:00\u001b[0m\n",
      "\u001b[?25hInstalling collected packages: groq\n",
      "Successfully installed groq-0.11.0\n"
     ]
    }
   ],
   "source": [
    "!pip install groq"
   ]
  },
  {
   "cell_type": "code",
   "execution_count": null,
   "metadata": {
    "executionInfo": {
     "elapsed": 3749,
     "status": "ok",
     "timestamp": 1730677669548,
     "user": {
      "displayName": "Van Nguyen Tran Thao",
      "userId": "15365487970074691869"
     },
     "user_tz": -420
    },
    "id": "3q5IZGYjvR_f"
   },
   "outputs": [],
   "source": [
    "from groq import Groq\n",
    "def get_response_groq(prompt):\n",
    "    \"\"\"Hàm này nhận một prompt và trả về phản hồi từ mô hình của Groq.\"\"\"\n",
    "    # Khởi tạo client với API Key\n",
    "    client = Groq(api_key=\"{Your API key}\")  # Thay thế bằng API Key của bạn\n",
    "\n",
    "    # Gửi yêu cầu tới Groq API\n",
    "    response = client.chat.completions.create(\n",
    "        model=\"llama3-70b-8192\",  # Mô hình sử dụng (thay thế nếu cần)\n",
    "        messages=[\n",
    "            {\"role\": \"user\", \"content\": prompt}  # Gửi prompt người dùng\n",
    "        ]\n",
    "    )\n",
    "    # Trả về nội dung phản hồi từ API\n",
    "    return response.choices[0].message.content"
   ]
  },
  {
   "cell_type": "code",
   "execution_count": 24,
   "metadata": {
    "executionInfo": {
     "elapsed": 427,
     "status": "ok",
     "timestamp": 1730678028440,
     "user": {
      "displayName": "Van Nguyen Tran Thao",
      "userId": "15365487970074691869"
     },
     "user_tz": -420
    },
    "id": "rUeD9AAVb04k"
   },
   "outputs": [],
   "source": [
    "folder_path = \"/content/drive/MyDrive/[03_October_2024]_AI_for_Python/Source_bai_tap/Bai_8/phan_hoi_folder/\""
   ]
  },
  {
   "cell_type": "code",
   "execution_count": 29,
   "metadata": {
    "executionInfo": {
     "elapsed": 397,
     "status": "ok",
     "timestamp": 1730678163911,
     "user": {
      "displayName": "Van Nguyen Tran Thao",
      "userId": "15365487970074691869"
     },
     "user_tz": -420
    },
    "id": "tv2bIjqavStX"
   },
   "outputs": [],
   "source": [
    "import os\n",
    "\n",
    "def tong_hop_nhan_xet_tu_thu_muc(thumuc_path):\n",
    "    noi_dung_tong_hop = \"\"\n",
    "    for filename in os.listdir(thumuc_path):\n",
    "        if filename.endswith(\".txt\"):\n",
    "            with open(os.path.join(thumuc_path, filename), \"r\", encoding=\"utf-8\") as file:\n",
    "                noi_dung_tong_hop += file.read() + \"\\n\"\n",
    "\n",
    "    # Prompt ngắn gọn hơn\n",
    "    prompt = (\n",
    "        \"Dựa trên các phản hồi sau, tóm tắt ngắn gọn xu hướng chính của phản hồi khách hàng và \"\n",
    "        \"đề xuất 1-2 cải tiến quan trọng. Đưa ra câu trả lời ngắn gọn bằng tiếng Việt:\\n\"\n",
    "        + noi_dung_tong_hop\n",
    "    )\n",
    "\n",
    "    # Gọi API để tổng hợp nhận xét\n",
    "    nhan_xet_tong_quan = get_response_groq(prompt)\n",
    "    return nhan_xet_tong_quan\n",
    "\n"
   ]
  },
  {
   "cell_type": "code",
   "execution_count": 30,
   "metadata": {
    "colab": {
     "base_uri": "https://localhost:8080/"
    },
    "executionInfo": {
     "elapsed": 776,
     "status": "ok",
     "timestamp": 1730678166879,
     "user": {
      "displayName": "Van Nguyen Tran Thao",
      "userId": "15365487970074691869"
     },
     "user_tz": -420
    },
    "id": "p16S1DE8c4V3",
    "outputId": "e44ec263-5211-4e0c-b8a1-4bbfe1dea34f"
   },
   "outputs": [
    {
     "name": "stdout",
     "output_type": "stream",
     "text": [
      "Tóm tắt xu hướng chính của phản hồi khách hàng:\n",
      "\n",
      "* Đa số khách hàng đều hài lòng với sản phẩm, đánh giá cao chất lượng và dịch vụ chăm sóc khách hàng.\n",
      "* Tuy nhiên, một số khách hàng vẫn có phản hồi tiêu cực về chất lượng sản phẩm, cho rằng sản phẩm không xứng đáng với giá tiền và độ bền không cao.\n",
      "\n",
      "Đề xuất 1-2 cải tiến quan trọng:\n",
      "\n",
      "* Cải thiện chất lượng sản phẩm, đặc biệt là độ bền, để đáp ứng kỳ vọng của khách hàng.\n",
      "* Đánh giá và điều chỉnh giá cả sản phẩm để đảm bảo sự công bằng và tương xứng với chất lượng sản phẩm.\n"
     ]
    }
   ],
   "source": [
    "print(tong_hop_nhan_xet_tu_thu_muc(folder_path))\n"
   ]
  },
  {
   "cell_type": "code",
   "execution_count": null,
   "metadata": {
    "id": "LJPzP78mc8Sy"
   },
   "outputs": [],
   "source": []
  }
 ],
 "metadata": {
  "colab": {
   "provenance": []
  },
  "kernelspec": {
   "display_name": "Python 3",
   "language": "python",
   "name": "python3"
  },
  "language_info": {
   "codemirror_mode": {
    "name": "ipython",
    "version": 3
   },
   "file_extension": ".py",
   "mimetype": "text/x-python",
   "name": "python",
   "nbconvert_exporter": "python",
   "pygments_lexer": "ipython3",
   "version": "3.9.13"
  }
 },
 "nbformat": 4,
 "nbformat_minor": 0
}
