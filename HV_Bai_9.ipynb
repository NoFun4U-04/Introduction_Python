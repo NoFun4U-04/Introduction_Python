{
 "cells": [
  {
   "cell_type": "markdown",
   "id": "d84ff68e",
   "metadata": {},
   "source": [
    "LẬP TRÌNH HƯỚNG ĐỐI TƯỢNG"
   ]
  },
  {
   "cell_type": "markdown",
   "id": "d575187c",
   "metadata": {},
   "source": [
    "7.1 Quản lý học sinh\n",
    "\n",
    "**Yêu cầu**:\n",
    "- Tạo một lớp Học sinh Student để quản lý thông tin học sinh:\n",
    "    + Thuộc tính: name, age, student_id\n",
    "    + Phương thức: display_info()"
   ]
  },
  {
   "cell_type": "code",
   "execution_count": 1,
   "id": "f417c9c9",
   "metadata": {},
   "outputs": [
    {
     "name": "stdout",
     "output_type": "stream",
     "text": [
      "Họ và tên học sinh: Tran Van An \n",
      "Tuổi: 23 \n",
      "Mã sinh viên: A111\n",
      "Họ và tên học sinh: Nguyen Nhu Quynh \n",
      "Tuổi: 21 \n",
      "Mã sinh viên: a292\n"
     ]
    }
   ],
   "source": [
    "class Student:\n",
    "    \"\"\"\n",
    "    Classdocs: Tạo một lớp học sinh \n",
    "    \"\"\"\n",
    "\n",
    "    def __init__(self, name, age, student_id):\n",
    "        self.name = name\n",
    "        self.age = age\n",
    "        self.student_id = student_id\n",
    "\n",
    "    def display_info(self):\n",
    "        print(f\"Họ và tên học sinh: {self.name} \\nTuổi: {self.age} \\nMã sinh viên: {self.student_id}\")\n",
    "\n",
    "\n",
    "student1 = Student(\"Tran Van An\", \"23\", \"A111\")\n",
    "student1.display_info()\n",
    "\n",
    "student2 = Student(\"Nguyen Nhu Quynh\", \"21\", \"a292\")\n",
    "student2.display_info()"
   ]
  },
  {
   "cell_type": "markdown",
   "id": "5dce6fdc",
   "metadata": {},
   "source": [
    "7.2 Thông tin tài khoản ngân hàng\n",
    "\n",
    "tạo một lớp BankAccount để quản lý tài khoản ngân hàng:\n",
    "- __balance: private\n",
    "- Phương thức: deposit (amount > 0), withdraw (nếu số dư đủ), trả về số dư hiện tại\n",
    "- Lấy từ lớp cha học sinh"
   ]
  },
  {
   "cell_type": "code",
   "execution_count": 11,
   "id": "2f5f3fdf",
   "metadata": {},
   "outputs": [
    {
     "name": "stdout",
     "output_type": "stream",
     "text": [
      "Nạp 200 vào tài khoản thành công\n",
      ">>> Số dư hiện tại: 700\n",
      "Rút 200 thành công\n",
      ">>> Số dư hiện tại: 500\n"
     ]
    }
   ],
   "source": [
    "class BankAccount(Student):\n",
    "    \"\"\"\n",
    "    Create account banking intertet of a student\n",
    "    \"\"\"\n",
    "    def __init__(self, name, age, student_id, balance):\n",
    "        super().__init__(name, age, student_id)\n",
    "        self.__balance = balance\n",
    "\n",
    "\n",
    "    \n",
    "    @staticmethod\n",
    "    def is_valid_amount_deposit(amount):\n",
    "        return amount > 0 \n",
    "\n",
    "    \n",
    "    def is_valid_amount_withdraw(self, amount):\n",
    "        return 0< amount <= self.__balance\n",
    "    \n",
    "\n",
    "    def deposit(self, amount):\n",
    "        if self.is_valid_amount_deposit(amount):\n",
    "            self.__balance += amount\n",
    "            print(f\"Nạp {amount} vào tài khoản thành công\")\n",
    "            print(f\">>> Số dư hiện tại: {self.balance}\")\n",
    "        else: \n",
    "            raise ValueError(\"Amount must is positive\")\n",
    "        \n",
    "    def withdraw(self, amount):\n",
    "        if self.is_valid_amount_withdraw(amount):\n",
    "            self.__balance -= amount\n",
    "            print(f\"Rút {amount} thành công\")\n",
    "            print(f\">>> Số dư hiện tại: {self.balance}\")\n",
    "        else:\n",
    "            raise ValueError(\"Insufficient balance\")\n",
    "        \n",
    "     \n",
    "    @property\n",
    "    def balance(self):\n",
    "        return self.__balance\n",
    "\n",
    "\n",
    "\n",
    "sinhvien1 = BankAccount(\"Thinh\", \"21\", \"A02\", 500)\n",
    "amount = int(input(\"Nhap so tien ban muon gui : \"))\n",
    "sinhvien1.deposit(amount)\n",
    "amount1 = int(input(\"Nhap so tien ban muon rut : \"))\n",
    "sinhvien1.withdraw(amount1)"
   ]
  },
  {
   "cell_type": "markdown",
   "id": "afaef1a4",
   "metadata": {},
   "source": [
    "7.3 Hệ thống quản lý nhân viên\n",
    "**Yêu cầu**:\n",
    "Hãy xây dựng một hệ thống quản lý nhân sự trong công ty:\n",
    "- Lớp Person(Lớp cha): name (tên), age, phương thức: Hiển thị thông tin\n",
    "- Lớp Employee (kế thừa lớp cha): mã nhân viên, position, salary, Phương thức: display_info()\n",
    "- Lớp Manager (kế thừa từ Employee): bonus, ghi đè display_info() + tiền thưởng"
   ]
  },
  {
   "cell_type": "code",
   "execution_count": 13,
   "id": "42535281",
   "metadata": {},
   "outputs": [
    {
     "name": "stdout",
     "output_type": "stream",
     "text": [
      "HoVaTen: Thinh \n",
      "Tuoi: 23\n",
      "MaNhanVien: A01 \n",
      "ViTriCongViec: Nhan vien \n",
      "Luong: 100\n",
      "**************************************************\n",
      "HoVaTen: Ry \n",
      "Tuoi: 20\n",
      "MaNhanVien: H01 \n",
      "ViTriCongViec: Quan Ly \n",
      "Luong: 200\n",
      "Thuong: 20\n"
     ]
    }
   ],
   "source": [
    "class Person:\n",
    "    '''\n",
    "    Lớp cha => chung\n",
    "    '''\n",
    "\n",
    "    def __init__(self, name, age):\n",
    "        self.name = name\n",
    "        self.age = age\n",
    "\n",
    "    def get_info(self):\n",
    "        print(f\"HoVaTen: {self.name} \\nTuoi: {self.age}\")\n",
    "\n",
    "\n",
    "class Employee(Person):\n",
    "    '''\n",
    "        classdocs: Lop Nhan vien duoc ke thua tu lop cha Person\n",
    "    '''\n",
    "\n",
    "    def __init__(self, name, age, employee_id, position, salary):\n",
    "        super().__init__(name, age)\n",
    "        self.employee_id = employee_id\n",
    "        self.position = position\n",
    "        self.salary = salary\n",
    "\n",
    "    def display_info(self):\n",
    "        super().get_info()\n",
    "        print(f\"MaNhanVien: {self.employee_id} \\nViTriCongViec: {self.position} \\nLuong: {self.salary}\")\n",
    "    \n",
    "class Manager(Employee):\n",
    "    '''\n",
    "        classdocs: Lop Manager ke thua tu lop Employee\n",
    "    '''\n",
    "    def __init__(self, name, age, employee_id, position, salary, bonus):\n",
    "        super().__init__(name, age, employee_id, position, salary)\n",
    "        self.bonus = bonus\n",
    "     \n",
    "    def display_info(self):\n",
    "        super().display_info()\n",
    "        print(f\"Thuong: {self.bonus}\")\n",
    "\n",
    "\n",
    "employee1 = Employee(\"Thinh\", 23, \"A01\", \"Nhan vien\", 100)\n",
    "manager1 = Manager(\"Ry\", 20, \"H01\", \"Quan Ly\", 200, 20)\n",
    "employee1.display_info()\n",
    "print(50*\"*\")\n",
    "manager1.display_info()"
   ]
  },
  {
   "cell_type": "markdown",
   "id": "3569872b",
   "metadata": {},
   "source": [
    "7.4 Hệ thống đặt phim \n",
    "**Yêu cầu**:\n",
    "Xây dựng hệ thống đặt vé xem phim :\n",
    "- Lớp Movie: title, duration, display_info()\n",
    "- Lớp Cinema: movies, add_movie(), show_movie()\n",
    "- Lớp Ticket: movie, price, print_ticket()\n"
   ]
  },
  {
   "cell_type": "code",
   "execution_count": null,
   "id": "07fa124a",
   "metadata": {},
   "outputs": [
    {
     "name": "stdout",
     "output_type": "stream",
     "text": [
      "Tên phim: thinh \n",
      "Thời lượng: 120\n"
     ]
    },
    {
     "ename": "IndexError",
     "evalue": "list index out of range",
     "output_type": "error",
     "traceback": [
      "\u001b[31m---------------------------------------------------------------------------\u001b[39m",
      "\u001b[31mIndexError\u001b[39m                                Traceback (most recent call last)",
      "\u001b[36mCell\u001b[39m\u001b[36m \u001b[39m\u001b[32mIn[3]\u001b[39m\u001b[32m, line 25\u001b[39m\n\u001b[32m     23\u001b[39m \u001b[38;5;28mprint\u001b[39m(a)\n\u001b[32m     24\u001b[39m CGV = Cinema()\n\u001b[32m---> \u001b[39m\u001b[32m25\u001b[39m \u001b[43mCGV\u001b[49m\u001b[43m.\u001b[49m\u001b[43madd_moive\u001b[49m\u001b[43m(\u001b[49m\u001b[43ma\u001b[49m\u001b[43m)\u001b[49m\n",
      "\u001b[36mCell\u001b[39m\u001b[36m \u001b[39m\u001b[32mIn[3]\u001b[39m\u001b[32m, line 16\u001b[39m, in \u001b[36mCinema.add_moive\u001b[39m\u001b[34m(self, a)\u001b[39m\n\u001b[32m     14\u001b[39m \u001b[38;5;28;01mdef\u001b[39;00m\u001b[38;5;250m \u001b[39m\u001b[34madd_moive\u001b[39m(\u001b[38;5;28mself\u001b[39m, a):\n\u001b[32m     15\u001b[39m     \u001b[38;5;28mself\u001b[39m.movies.append(a)\n\u001b[32m---> \u001b[39m\u001b[32m16\u001b[39m     \u001b[38;5;28mprint\u001b[39m(\u001b[38;5;28;43mself\u001b[39;49m\u001b[43m.\u001b[49m\u001b[43mmovies\u001b[49m\u001b[43m[\u001b[49m\u001b[32;43m1\u001b[39;49m\u001b[43m]\u001b[49m)\n",
      "\u001b[31mIndexError\u001b[39m: list index out of range"
     ]
    }
   ],
   "source": [
    "class Movie:\n",
    "    def __init__(self, title, duration):\n",
    "        self.title = title\n",
    "        self.duration = duration\n",
    "\n",
    "    def __str__(self):\n",
    "        return(f\"Tên phim: {self.title} \\nThời lượng: {self.duration}\")\n",
    "    \n",
    "\n",
    "class Cinema():\n",
    "    def __init__(self):\n",
    "        self.movies = []\n",
    "\n",
    "    def add_moive(self, a):\n",
    "        self.movies.append(a)\n",
    "        print(self.movies)\n",
    "\n",
    "    def show_movies(self):\n",
    "        print(self.movies)\n",
    "\n",
    "\n",
    "a = Movie('thinh', '120')\n",
    "print(a)\n",
    "CGV = Cinema()\n",
    "CGV.add_moive(a)\n"
   ]
  }
 ],
 "metadata": {
  "kernelspec": {
   "display_name": "base",
   "language": "python",
   "name": "python3"
  },
  "language_info": {
   "codemirror_mode": {
    "name": "ipython",
    "version": 3
   },
   "file_extension": ".py",
   "mimetype": "text/x-python",
   "name": "python",
   "nbconvert_exporter": "python",
   "pygments_lexer": "ipython3",
   "version": "3.13.5"
  }
 },
 "nbformat": 4,
 "nbformat_minor": 5
}
