{
 "cells": [
  {
   "cell_type": "markdown",
   "metadata": {
    "id": "Dgp5iSjYSMPW"
   },
   "source": [
    "**4.1 Nhập điểm trung bình HK1, HK2 và cho đánh giá xếp loại**"
   ]
  },
  {
   "cell_type": "code",
   "execution_count": 2,
   "metadata": {
    "id": "Qz5NbD9MSMPa",
    "outputId": "02cbc002-5b81-4307-daa7-d85a82e0e803"
   },
   "outputs": [
    {
     "name": "stdout",
     "output_type": "stream",
     "text": [
      "Điểm học kì 1: 6.0\n",
      "Điểm học kì 2: 7.0\n",
      "Trung bình của học kì là : 6.67\n",
      "Học lực trung bình\n"
     ]
    }
   ],
   "source": [
    "# Nhập điểm HK1 và HK2\n",
    "hk1 = float(input(\"Nhập điểm học kì 1: \"))\n",
    "hk2 = float(input(\"Nhập điểm học kì 2: \"))\n",
    "# Tính điểm trung bình\n",
    "trung_binh = (hk1 + 2*hk2)/3\n",
    "\n",
    "# In ra điểm trung bình\n",
    "print(f\"Điểm học kì 1: {hk1}\")\n",
    "print(f\"Điểm học kì 2: {hk2}\")\n",
    "print(\"Trung bình của học kì là : {:.2f}\".format(trung_binh))\n",
    "\n",
    "# Xếp loại học lực dựa trên điểm trung bình\n",
    "if(trung_binh >= 9): \n",
    "    print(\"Học lực giỏi\")\n",
    "elif (trung_binh >= 8 and trung_binh < 9):\n",
    "    print(\"Học lực khá\")\n",
    "elif(trung_binh < 8):\n",
    "    print(\"Học lực trung bình\")"
   ]
  },
  {
   "cell_type": "markdown",
   "metadata": {
    "id": "D84AYpfZSMPc"
   },
   "source": [
    "**4.2 Tính cước taxi**"
   ]
  },
  {
   "cell_type": "code",
   "execution_count": null,
   "metadata": {
    "id": "N5XV9hYeSMPd",
    "outputId": "60848cd5-396d-49b9-8e86-8b52168684d5"
   },
   "outputs": [
    {
     "name": "stdout",
     "output_type": "stream",
     "text": [
      "Loại xe: 4\n",
      "Thời gian chờ (phút): 5\n",
      "Số km di chuyển: 30\n",
      "----------\n",
      "Tiền chờ: 0\n",
      "Tiền di chuyển: 11519.2\n",
      "Tổng tiền: 11519.20\n"
     ]
    }
   ],
   "source": [
    "loai_xe = int(input('Loại xe (4 hoặc 7): '))\n",
    "if loai_xe not in (4, 7):\n",
    "    print('Không tìm thấy loại xe %i chỗ' % loai_xe)\n",
    "else:\n",
    "    thoi_gian_cho = int(input('Thời gian chờ (phút): '))\n",
    "    so_km = float(input('Số km di chuyển: '))\n",
    "\n",
    "    # Tính tiền chờ\n",
    "    if thoi_gian_cho <= 5:\n",
    "        tien_cho = 0\n",
    "    else: \n",
    "        tien_cho = (thoi_gian_cho - 5) * 750    \n",
    "\n",
    "    # Tính tiền di chuyển\n",
    "    if so_km <= 0.5:\n",
    "        tien_di_chuyen = 11000 if loai_xe == 4 else 12000\n",
    "    elif so_km <= 30:\n",
    "        if loai_xe == 4:\n",
    "            tien_di_chuyen = 11000 + (so_km - 0.5) * 17600\n",
    "        else:\n",
    "            tien_di_chuyen = 12000 + (so_km - 0.5) * 19600\n",
    "    else: \n",
    "        if loai_xe == 4:\n",
    "            tien_di_chuyen = 11000 + 17600 * 29.5 + 14500 * (so_km - 30)\n",
    "        else:\n",
    "            tien_di_chuyen = 12000 + 19600 * 29.5 + 17100 * (so_km - 30)\n",
    "\n",
    "    # Kết quả\n",
    "    print(f\"Loại xe: {loai_xe} chỗ\")\n",
    "    print(f\"Thời gian chờ (phút): {thoi_gian_cho}\")\n",
    "    print(f\"Số km di chuyển: {so_km}\")\n",
    "    print(\"-\"*20)\n",
    "    print(f\"Tiền chờ: {tien_cho} VND\")\n",
    "    print(f\"Tiền di chuyển: {tien_di_chuyen:.0f} VND\")\n",
    "    print(f\"Tổng tiền: {tien_di_chuyen + tien_cho:.0f} VND\")\n"
   ]
  },
  {
   "cell_type": "markdown",
   "metadata": {
    "id": "Vw6ChPXPSMPd"
   },
   "source": [
    "**4.3 Tính tiền điện**"
   ]
  },
  {
   "cell_type": "code",
   "execution_count": 6,
   "metadata": {
    "id": "_JxENlZuSMPe",
    "outputId": "5c30263c-5f49-4530-8ffb-e86d9bd6457a"
   },
   "outputs": [
    {
     "name": "stdout",
     "output_type": "stream",
     "text": [
      "Tổng số tiền điện phải trả: 903,332 VND\n"
     ]
    }
   ],
   "source": [
    "# Các mức giá điện theo từng bậc kWh\n",
    "gia_bac1 = 1678   # Giá cho 50 kWh đầu tiên\n",
    "gia_bac2 = 1734   # Giá cho từ 51 - 100 kWh\n",
    "gia_bac3 = 2014   # Giá cho từ 101 - 200 kWh\n",
    "gia_bac4 = 2536   # Giá cho từ 201 - 300 kWh\n",
    "gia_bac5 = 2834   # Giá cho từ 301 - 400 kWh\n",
    "gia_bac6 = 2927   # Giá cho trên 400 kWh\n",
    "\n",
    "# Các bậc số kWh\n",
    "bac1 = 50    # Bậc 1: 50 kWh đầu tiên\n",
    "bac2 = 50    # Bậc 2: 50 kWh kế tiếp (51-100)\n",
    "bac3 = 100   # Bậc 3: 100 kWh kế tiếp (101-200)\n",
    "bac4 = 100   # Bậc 4: 100 kWh kế tiếp (201-300)\n",
    "bac5 = 100   # Bậc 5: 100 kWh kế tiếp (301-400)\n",
    "\n",
    "# Biến lưu tổng tiền điện\n",
    "tong_tien = 0\n",
    "\n",
    "# Nhập số kWh tiêu thụ từ người dùng\n",
    "so_kwh = int(input(\"Nhập số kWh tiêu thụ: \"))\n",
    "\n",
    "# Tính tiền điện dựa trên số kWh tiêu thụ\n",
    "if so_kwh <= bac1:\n",
    "    tong_tien = so_kwh * gia_bac1\n",
    "\n",
    "elif so_kwh <= bac1 + bac2:\n",
    "    tong_tien = bac1 * gia_bac1 + (so_kwh - bac1) * gia_bac2\n",
    "\n",
    "elif so_kwh <= bac1 + bac2 + bac3:\n",
    "    tong_tien = bac1 * gia_bac1 + bac2 * gia_bac2 + (so_kwh - (bac1 + bac2)) * gia_bac3\n",
    "\n",
    "elif so_kwh <= bac1 + bac2 + bac3 + bac4:\n",
    "    tong_tien = bac1 * gia_bac1 + bac2 * gia_bac2 + bac3 * gia_bac3 + (so_kwh - (bac1 + bac2 + bac3)) * gia_bac4\n",
    "\n",
    "elif so_kwh <= bac1 + bac2 + bac3 + bac4 + bac5:\n",
    "    tong_tien = bac1 * gia_bac1 + bac2 * gia_bac2 + bac3 * gia_bac3 + bac4 * gia_bac4 + (so_kwh - (bac1 + bac2 + bac3 + bac4)) * gia_bac5\n",
    "\n",
    "else:\n",
    "    tong_tien = bac1 * gia_bac1 + bac2 * gia_bac2 + bac3 * gia_bac3 + bac4 * gia_bac4 + bac5 * gia_bac5 + (so_kwh - (bac1 + bac2 + bac3 + bac4 + bac5)) * gia_bac6\n",
    "\n",
    "# In ra tổng số tiền điện phải trả với định dạng dấu phẩy để dễ đọc\n",
    "print(\"Tổng số tiền điện phải trả: {:,} VND\".format(tong_tien))\n"
   ]
  },
  {
   "cell_type": "markdown",
   "metadata": {
    "id": "ucw3UTh0SMPe"
   },
   "source": [
    "**4.4 Tính tiền thuê phòng resort**"
   ]
  },
  {
   "cell_type": "code",
   "execution_count": 11,
   "metadata": {
    "id": "rviTAQBDSMPf",
    "outputId": "e988081a-ac96-4b12-fa82-c5b30126215f"
   },
   "outputs": [
    {
     "name": "stdout",
     "output_type": "stream",
     "text": [
      "----------Danh sách các loại phòng----------\n",
      "\n",
      "        1 - Standard\n",
      "        2 - Superior Garden View\n",
      "        ... \n",
      "Phòng bạn ở: 4\n",
      "Số đêm bạn ở: 4\n",
      "Tổng số tiền bạn phải trả: 6,784,000 VND\n"
     ]
    }
   ],
   "source": [
    "# Đặt giá phòng cho từng loại (theo đơn vị VND mỗi đêm\n",
    "\n",
    "# Nhập loại phòng và số đêm lưu trú từ người dùng\n",
    "print(10*\"-\" + \"Danh sách các loại phòng\" + 10*\"-\")\n",
    "print(\"\"\"\n",
    "        1 - Standard\n",
    "        2 - Superior Garden View\n",
    "        ... \"\"\")\n",
    "phong = int(input(\"Nhập mã phòng mà bạn muốn ở: \"))\n",
    "so_ngay = int(input(\"Nhập số ngày mà bạn muốn ở: \"))\n",
    "\n",
    "# Khởi tạo biến để lưu đơn giá và tổng tiền\n",
    "don_gia = 0\n",
    "tong_tien = 0\n",
    "giam_gia_1 = 0.25\n",
    "giam_gia_2 = 0.3\n",
    "\n",
    "# Xác định đơn giá phòng dựa trên loại phòng\n",
    "if(phong == 1):\n",
    "    don_gia = 1260000\n",
    "elif(phong==2):\n",
    "    don_gia = 1550000\n",
    "elif(phong==3):\n",
    "    don_gia = 1830000\n",
    "elif(phong==4):\n",
    "    don_gia = 2120000\n",
    "\n",
    "\n",
    "# Tính tổng tiền phải trả dựa trên số đêm lưu trú và mức giảm giá\n",
    "\n",
    "# Không giảm giá nếu ở 1 đêm\n",
    "if(so_ngay <= 1):\n",
    "    tong_tien = don_gia*so_ngay   \n",
    "# Giảm 25% nếu ở từ 2 đến 3 đêm\n",
    "elif(so_ngay <= 3):\n",
    "    tong_tien = don_gia + don_gia*giam_gia_1*(so_ngay-1)\n",
    "# Giảm 30% nếu ở từ 4 đêm trở lên\n",
    "elif(so_ngay >= 4):\n",
    "    tong_tien = don_gia + don_gia*(1-giam_gia_1)*2 + don_gia*(so_ngay-3)*(1-giam_gia_2)\n",
    "# In ra tổng số tiền phải trả, định dạng có dấu phẩy để dễ đọc hơn\n",
    "print(\"Phòng bạn ở: %d\" %phong)\n",
    "print(\"Số đêm bạn ở: %d\" %so_ngay)\n",
    "print(\"Tổng số tiền bạn phải trả: {:,} VND\".format(int(tong_tien)))\n"
   ]
  },
  {
   "cell_type": "markdown",
   "metadata": {
    "id": "CDY1qOUtSMPf"
   },
   "source": [
    "**4.5 Tính tiền thuế thu nhập cá nhân**"
   ]
  },
  {
   "cell_type": "code",
   "execution_count": 10,
   "metadata": {
    "id": "SS12LDs3SMPf",
    "outputId": "30075e56-cc50-47f0-b9a3-7eccb9ede8d9"
   },
   "outputs": [
    {
     "name": "stdout",
     "output_type": "stream",
     "text": [
      "Thu nhập một năm: 250,000,000\n",
      "Số người phụ thuộc: 1\n",
      "--------------------\n",
      "Số tiền được giảm trừ: 184,800,000\n",
      "Só tiền phải chịu thuế: 60,000,000\n",
      "Tiền thuế: 3,520,000\n"
     ]
    }
   ],
   "source": [
    "\n",
    "\n",
    "# Mức giảm trừ (tháng)\n",
    "giam_tru =4400000*12\n",
    "giam_tru_2 = 11000000*12\n",
    "\n",
    "# Nhập liệu\n",
    "thu_nhap = int(input(\"Nhập thu nhập năm của bạn: \"))\n",
    "nguoi_phu_thuoc = int(input(\"Nhập số người phụ thuộc: \"))\n",
    "\n",
    "# Tính toán\n",
    "#Khai báo tiền đóng thuế\n",
    "tien_dong_thue = 0\n",
    "#Khai báo tiền giảm trừ\n",
    "tien_giam_tru = giam_tru * nguoi_phu_thuoc + giam_tru_2\n",
    "#Khai báo tiền chịu thuế\n",
    "tien_chiu_thue = thu_nhap - tien_giam_tru\n",
    "if tien_chiu_thue <= 0: \n",
    "    tien_dong_thue = 0\n",
    "else: \n",
    "    if tien_chiu_thue > 960_000_000:\n",
    "        tien_dong_thue += (tien_chiu_thue - 960_000_000) * 0.35\n",
    "        tien_chiu_thue = 960_000_000\n",
    "    if tien_chiu_thue > 624_000_000:\n",
    "        tien_dong_thue += (tien_chiu_thue - 624_000_000) * 0.30\n",
    "        tien_chiu_thue = 624_000_000\n",
    "    if tien_chiu_thue > 384_000_000:\n",
    "        tien_dong_thue += (tien_chiu_thue - 384_000_000) * 0.25\n",
    "        tien_chiu_thue = 384_000_000\n",
    "    if tien_chiu_thue > 216_000_000:\n",
    "        tien_dong_thue += (tien_chiu_thue - 216_000_000) * 0.20\n",
    "        tien_chiu_thue = 216_000_000\n",
    "    if tien_chiu_thue > 120_000_000:\n",
    "        tien_dong_thue += (tien_chiu_thue - 120_000_000) * 0.15\n",
    "        tien_chiu_thue = 120_000_000\n",
    "    if tien_chiu_thue > 60_000_000:\n",
    "        tien_dong_thue += (tien_chiu_thue - 60_000_000) * 0.10\n",
    "        tien_chiu_thue = 60_000_000\n",
    "    if tien_chiu_thue > 0:\n",
    "        tien_dong_thue += tien_chiu_thue * 0.05\n",
    "# Xuất kết quả\n",
    "print(\"Thu nhập một năm: {:,}\".format(int(thu_nhap)))\n",
    "print(\"Số người phụ thuộc: %d\" %nguoi_phu_thuoc)\n",
    "print(20*\"-\")\n",
    "print(\"Số tiền được giảm trừ: {:,}\".format(int(tien_giam_tru)))\n",
    "print(\"Só tiền phải chịu thuế: {:,}\".format(int(tien_chiu_thue)))\n",
    "print(\"Tiền thuế: {:,}\".format(int(tien_dong_thue)))\n"
   ]
  },
  {
   "cell_type": "markdown",
   "metadata": {
    "id": "jIgmBA9XSMPg"
   },
   "source": [
    "#### Bài tập bổ sung thêm"
   ]
  },
  {
   "cell_type": "markdown",
   "metadata": {
    "id": "1ql7c0qzSMPg"
   },
   "source": [
    "\n",
    "**Bài 4.6: Tính phí giao hàng**\n",
    "\n",
    "**Mục tiêu**:  \n",
    "Áp dụng cấu trúc điều kiện để tính phí giao hàng dựa trên khoảng cách và giá trị đơn hàng.\n",
    "\n",
    "**Yêu cầu**:  \n",
    "1. Khách hàng đặt đơn hàng với tổng giá trị `gia_tri_don_hang`.  \n",
    "2. Phí giao hàng được tính như sau:  \n",
    "   - **Miễn phí giao hàng** nếu giá trị đơn hàng từ **500,000 VND** trở lên.  \n",
    "   - Nếu không, tính phí dựa trên khoảng cách:  \n",
    "     - Dưới 5km: **20,000 VND**  \n",
    "     - Từ 5 đến 10km: **30,000 VND**  \n",
    "     - Trên 10km: **50,000 VND**  \n",
    "\n",
    "3. Người dùng nhập `gia_tri_don_hang` và `khoang_cach`.  \n",
    "4. In ra **tổng tiền cần thanh toán**, bao gồm phí giao hàng."
   ]
  },
  {
   "cell_type": "code",
   "execution_count": 4,
   "metadata": {
    "colab": {
     "base_uri": "https://localhost:8080/"
    },
    "executionInfo": {
     "elapsed": 8686,
     "status": "ok",
     "timestamp": 1730357954934,
     "user": {
      "displayName": "Van Nguyen Tran Thao",
      "userId": "15365487970074691869"
     },
     "user_tz": -420
    },
    "id": "Yqj49eJiSMPg",
    "outputId": "bd5f406d-ff4f-4095-af20-9da9af7202a9"
   },
   "outputs": [
    {
     "name": "stdout",
     "output_type": "stream",
     "text": [
      "Giá trị của đơn hàng là: 500,000 VND\n",
      "Phí ship là: 0\n",
      "Tổng tiền khách cần trả là: 500,000\n"
     ]
    }
   ],
   "source": [
    "# Nhập giá trị đơn hàng và khoảng cách\n",
    "gia_tri_don_hang = int(input(\"Nhập giá trị đơn hàng: \"))\n",
    "khoang_cach = float(input(\"Nhập khoảng cách : \"))\n",
    "\n",
    "\n",
    "# Kiểm tra và tính phí giao hàng\n",
    "if(gia_tri_don_hang <= 500000 ):\n",
    "    tien_ship = 0\n",
    "else: \n",
    "    if(khoang_cach <= 5):\n",
    "        tien_ship = 20000\n",
    "    elif khoang_cach <= 10: \n",
    "        tien_ship = 30000\n",
    "    else: \n",
    "        tien_ship = 50000\n",
    "    \n",
    "# In ra giá trị đơn hàng\n",
    "print(\"Giá trị của đơn hàng là: {:,} VND\".format(gia_tri_don_hang))\n",
    "# In ra phí giao hàng\n",
    "print(\"Phí ship là: {:,}\".format(tien_ship))\n",
    "# Tính tổng tiền cần thanh toán\n",
    "tong_tien = tien_ship + gia_tri_don_hang\n",
    "# In ra tổng tiền cần thanh toán\n",
    "print(\"Tổng tiền khách cần trả là: {:,}\".format(tong_tien))\n"
   ]
  },
  {
   "cell_type": "markdown",
   "metadata": {
    "id": "2tirUMrPSMPh"
   },
   "source": [
    "**Bài 4.7: Tính chi phí gọi điện thoại trả sau**\n",
    "\n",
    "**Mục tiêu**:  \n",
    "Tính cước phí điện thoại trả sau dựa trên số phút gọi và gói cước khách hàng đang sử dụng.\n",
    "\n",
    "**Yêu cầu**:  \n",
    "1. Khách hàng sử dụng một trong ba gói cước sau:  \n",
    "   - **Gói A**: 1,000 VND/phút.  \n",
    "   - **Gói B**:  \n",
    "     - 800 VND/phút nếu tổng số phút dưới **300 phút**.  \n",
    "     - 600 VND/phút cho những phút vượt quá.  \n",
    "   - **Gói C**:  \n",
    "     - Phí cố định **200,000 VND/tháng** cho tối đa **500 phút**.  \n",
    "     - Những phút vượt quá tính **500 VND/phút**.  \n",
    "\n",
    "2. Người dùng nhập:  \n",
    "   - `goi_cuoc`: Tên gói cước (A, B hoặc C).  \n",
    "   - `so_phut`: Số phút đã gọi trong tháng.\n",
    "\n",
    "3. Tính và in ra **tổng tiền cần thanh toán** cho khách hàng.\n"
   ]
  },
  {
   "cell_type": "code",
   "execution_count": null,
   "metadata": {
    "colab": {
     "base_uri": "https://localhost:8080/"
    },
    "executionInfo": {
     "elapsed": 12000,
     "status": "ok",
     "timestamp": 1730359671783,
     "user": {
      "displayName": "Van Nguyen Tran Thao",
      "userId": "15365487970074691869"
     },
     "user_tz": -420
    },
    "id": "6_U724zRSMPh",
    "outputId": "452e26db-4216-4f89-b2e2-1c0ce1793ec8"
   },
   "outputs": [],
   "source": [
    "# Nhập gói cước và số phút gọi\n",
    "goi_cuoc = input(\"Nhập gói cước khách muốn sử dụng: \")\n",
    "so_phut = int(input(\"Nhấp số phút đã gọi trong tháng: \"))\n",
    "# Khởi tạo biến tổng tiền\n",
    "tong_tien = 0\n",
    "\n",
    "# Tính tiền theo từng gói cước\n",
    "if goi_cuoc == \"A\":\n",
    "    tong_tien = 1000*so_km\n",
    "elif goi_cuoc == \"B\":\n",
    "    if so_phut <= 300:\n",
    "        tong_tien = 800*so_phut\n",
    "    else: \n",
    "        tong_tien = 800*300 + (so_phut-300)\n",
    "else: \n",
    "    if so_phut <= 500:\n",
    "        tong_tien = 200000\n",
    "    else: \n",
    "        tong_tien = (so_phut -500)*500 + 200000\n",
    "\n",
    "# In ra tổng tiền cần thanh toán nếu gói cước hợp lệ\n"
   ]
  }
 ],
 "metadata": {
  "colab": {
   "provenance": []
  },
  "kernelspec": {
   "display_name": "base",
   "language": "python",
   "name": "python3"
  },
  "language_info": {
   "codemirror_mode": {
    "name": "ipython",
    "version": 3
   },
   "file_extension": ".py",
   "mimetype": "text/x-python",
   "name": "python",
   "nbconvert_exporter": "python",
   "pygments_lexer": "ipython3",
   "version": "3.13.5"
  }
 },
 "nbformat": 4,
 "nbformat_minor": 0
}
